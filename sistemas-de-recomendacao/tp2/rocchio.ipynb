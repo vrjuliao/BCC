{
 "cells": [
  {
   "cell_type": "code",
   "execution_count": 1,
   "metadata": {},
   "outputs": [],
   "source": [
    "import numpy as np\n",
    "import pandas as pd"
   ]
  },
  {
   "cell_type": "code",
   "execution_count": 2,
   "metadata": {},
   "outputs": [],
   "source": [
    "import content_rocchio"
   ]
  },
  {
   "cell_type": "code",
   "execution_count": 3,
   "metadata": {},
   "outputs": [],
   "source": [
    "ratings = pd.read_json('./ratings.jsonl', lines=True)\n",
    "content = pd.read_json('./content.jsonl', lines=True)\n",
    "targets = pd.read_csv('targets.csv', encoding='latin-1', sep=',')"
   ]
  },
  {
   "cell_type": "code",
   "execution_count": 4,
   "metadata": {},
   "outputs": [
    {
     "name": "stderr",
     "output_type": "stream",
     "text": [
      "/tmp/ipykernel_36093/1151917588.py:2: SettingWithCopyWarning: \n",
      "A value is trying to be set on a copy of a slice from a DataFrame.\n",
      "Try using .loc[row_indexer,col_indexer] = value instead\n",
      "\n",
      "See the caveats in the documentation: https://pandas.pydata.org/pandas-docs/stable/user_guide/indexing.html#returning-a-view-versus-a-copy\n",
      "  _content['Actors'] = _content.Actors.astype(str)\n",
      "/tmp/ipykernel_36093/1151917588.py:4: SettingWithCopyWarning: \n",
      "A value is trying to be set on a copy of a slice from a DataFrame.\n",
      "Try using .loc[row_indexer,col_indexer] = value instead\n",
      "\n",
      "See the caveats in the documentation: https://pandas.pydata.org/pandas-docs/stable/user_guide/indexing.html#returning-a-view-versus-a-copy\n",
      "  _content['Genre'] = _content.Genre.astype(str)\n",
      "/tmp/ipykernel_36093/1151917588.py:5: SettingWithCopyWarning: \n",
      "A value is trying to be set on a copy of a slice from a DataFrame.\n",
      "Try using .loc[row_indexer,col_indexer] = value instead\n",
      "\n",
      "See the caveats in the documentation: https://pandas.pydata.org/pandas-docs/stable/user_guide/indexing.html#returning-a-view-versus-a-copy\n",
      "  _content['Director'] = _content.Director.astype(str)\n",
      "/tmp/ipykernel_36093/1151917588.py:9: SettingWithCopyWarning: \n",
      "A value is trying to be set on a copy of a slice from a DataFrame.\n",
      "Try using .loc[row_indexer,col_indexer] = value instead\n",
      "\n",
      "See the caveats in the documentation: https://pandas.pydata.org/pandas-docs/stable/user_guide/indexing.html#returning-a-view-versus-a-copy\n",
      "  _content['Director'] = _content['Director'].apply(lambda x: ' '.join(x.replace(' ', '').lower() for x in x.split(', ')))\n",
      "/tmp/ipykernel_36093/1151917588.py:10: SettingWithCopyWarning: \n",
      "A value is trying to be set on a copy of a slice from a DataFrame.\n",
      "Try using .loc[row_indexer,col_indexer] = value instead\n",
      "\n",
      "See the caveats in the documentation: https://pandas.pydata.org/pandas-docs/stable/user_guide/indexing.html#returning-a-view-versus-a-copy\n",
      "  _content['Actors'] = _content['Actors'].apply(lambda x: ' '.join(x.replace(' ', '').lower() for x in x.split(', ')))\n",
      "/tmp/ipykernel_36093/1151917588.py:17: SettingWithCopyWarning: \n",
      "A value is trying to be set on a copy of a slice from a DataFrame.\n",
      "Try using .loc[row_indexer,col_indexer] = value instead\n",
      "\n",
      "See the caveats in the documentation: https://pandas.pydata.org/pandas-docs/stable/user_guide/indexing.html#returning-a-view-versus-a-copy\n",
      "  _content['Genre'] = _content['Genre'].map(lambda x: x.lower().replace(', ', ' '))\n",
      "/tmp/ipykernel_36093/1151917588.py:19: SettingWithCopyWarning: \n",
      "A value is trying to be set on a copy of a slice from a DataFrame.\n",
      "Try using .loc[row_indexer,col_indexer] = value instead\n",
      "\n",
      "See the caveats in the documentation: https://pandas.pydata.org/pandas-docs/stable/user_guide/indexing.html#returning-a-view-versus-a-copy\n",
      "  _content['Features'] = _content['Genre']\n",
      "/tmp/ipykernel_36093/1151917588.py:21: SettingWithCopyWarning: \n",
      "A value is trying to be set on a copy of a slice from a DataFrame.\n",
      "Try using .loc[row_indexer,col_indexer] = value instead\n",
      "\n",
      "See the caveats in the documentation: https://pandas.pydata.org/pandas-docs/stable/user_guide/indexing.html#returning-a-view-versus-a-copy\n",
      "  _content['imdbVotes'] = _content['imdbVotes'].str.replace('N/A', '1', regex=True)\n",
      "/tmp/ipykernel_36093/1151917588.py:22: SettingWithCopyWarning: \n",
      "A value is trying to be set on a copy of a slice from a DataFrame.\n",
      "Try using .loc[row_indexer,col_indexer] = value instead\n",
      "\n",
      "See the caveats in the documentation: https://pandas.pydata.org/pandas-docs/stable/user_guide/indexing.html#returning-a-view-versus-a-copy\n",
      "  _content['imdbVotes'] = _content['imdbVotes'].str.replace(',', '', regex=True)\n",
      "/tmp/ipykernel_36093/1151917588.py:23: SettingWithCopyWarning: \n",
      "A value is trying to be set on a copy of a slice from a DataFrame.\n",
      "Try using .loc[row_indexer,col_indexer] = value instead\n",
      "\n",
      "See the caveats in the documentation: https://pandas.pydata.org/pandas-docs/stable/user_guide/indexing.html#returning-a-view-versus-a-copy\n",
      "  _content['imdbVotes'] = _content['imdbVotes'].astype(str).astype('float64')\n"
     ]
    }
   ],
   "source": [
    "_content = content[['ItemId', 'Actors', 'Director', 'Genre', 'Title', 'imdbVotes']]\n",
    "_content['Actors'] = _content.Actors.astype(str)\n",
    "# df_1['plot_keywords'] = df_1.plot_keywords.astype(str) # get keywords from the 'Plot' field\n",
    "_content['Genre'] = _content.Genre.astype(str)\n",
    "_content['Director'] = _content.Director.astype(str)\n",
    "\n",
    "\n",
    "# Removing spaces between names\n",
    "_content['Director'] = _content['Director'].apply(lambda x: ' '.join(x.replace(' ', '').lower() for x in x.split(', ')))\n",
    "_content['Actors'] = _content['Actors'].apply(lambda x: ' '.join(x.replace(' ', '').lower() for x in x.split(', ')))\n",
    "\n",
    "# Discarding the pipes between the plot keywords' and getting only the first five words\n",
    "# df_1['plot_keywords'] = df_1['plot_keywords'].map(lambda x: x.split('|')) # 'Plot' field but only the keywords\n",
    "# df_1['plot_keywords'] = df_1['plot_keywords'].apply(lambda x: \" \".join(x)) #  'Plot' field but only the keywords\n",
    "\n",
    "# Discarding the pipes between the genres \n",
    "_content['Genre'] = _content['Genre'].map(lambda x: x.lower().replace(', ', ' '))\n",
    "# _content['Features'] = _content['Actors'] +' '+ _content['Director'] +' '+ _content['Genre']\n",
    "_content['Features'] = _content['Genre']\n",
    "\n",
    "_content['imdbVotes'] = _content['imdbVotes'].str.replace('N/A', '1', regex=True)\n",
    "_content['imdbVotes'] = _content['imdbVotes'].str.replace(',', '', regex=True)\n",
    "_content['imdbVotes'] = _content['imdbVotes'].astype(str).astype('float64')"
   ]
  },
  {
   "cell_type": "code",
   "execution_count": 5,
   "metadata": {},
   "outputs": [
    {
     "ename": "AttributeError",
     "evalue": "'Rocchio' object has no attribute 'user_utility'",
     "output_type": "error",
     "traceback": [
      "\u001b[0;31m---------------------------------------------------------------------------\u001b[0m",
      "\u001b[0;31mAttributeError\u001b[0m                            Traceback (most recent call last)",
      "Cell \u001b[0;32mIn [5], line 2\u001b[0m\n\u001b[1;32m      1\u001b[0m rocchio_recommender \u001b[39m=\u001b[39m content_rocchio\u001b[39m.\u001b[39mRocchio(ratings)\n\u001b[0;32m----> 2\u001b[0m rocchio_recommender\u001b[39m.\u001b[39;49mfit(_content[[\u001b[39m'\u001b[39;49m\u001b[39mItemId\u001b[39;49m\u001b[39m'\u001b[39;49m, \u001b[39m'\u001b[39;49m\u001b[39mFeatures\u001b[39;49m\u001b[39m'\u001b[39;49m]])\n",
      "File \u001b[0;32m~/workfolder/recommender-systems-rc2/content_rocchio.py:14\u001b[0m, in \u001b[0;36mRocchio.fit\u001b[0;34m(self, features_df)\u001b[0m\n\u001b[1;32m     12\u001b[0m \u001b[39m# Também pode ser compreendido como a computação da matriz de utilizade dos itens.\u001b[39;00m\n\u001b[1;32m     13\u001b[0m \u001b[39mself\u001b[39m\u001b[39m.\u001b[39m__split_features_into_columns(features_df)\n\u001b[0;32m---> 14\u001b[0m \u001b[39mself\u001b[39;49m\u001b[39m.\u001b[39;49m__compute_user_utility()\n",
      "File \u001b[0;32m~/workfolder/recommender-systems-rc2/content_rocchio.py:63\u001b[0m, in \u001b[0;36mRocchio.__compute_user_utility\u001b[0;34m(self)\u001b[0m\n\u001b[1;32m     61\u001b[0m \u001b[39mdef\u001b[39;00m \u001b[39m__compute_user_utility\u001b[39m(\u001b[39mself\u001b[39m):\n\u001b[1;32m     62\u001b[0m     \u001b[39mself\u001b[39m\u001b[39m.\u001b[39m__user_utility \u001b[39m=\u001b[39m \u001b[39mself\u001b[39m\u001b[39m.\u001b[39m__ratings\u001b[39m.\u001b[39mcopy()\n\u001b[0;32m---> 63\u001b[0m     \u001b[39mself\u001b[39m\u001b[39m.\u001b[39m__user_utility \u001b[39m=\u001b[39m \u001b[39mself\u001b[39;49m\u001b[39m.\u001b[39;49muser_utility\u001b[39m.\u001b[39mmerge(\u001b[39mself\u001b[39m\u001b[39m.\u001b[39m__features, on\u001b[39m=\u001b[39m\u001b[39m'\u001b[39m\u001b[39mItemId\u001b[39m\u001b[39m'\u001b[39m)\n\u001b[1;32m     65\u001b[0m     \u001b[39mself\u001b[39m\u001b[39m.\u001b[39m__user_utility[\u001b[39m'\u001b[39m\u001b[39mFrequency\u001b[39m\u001b[39m'\u001b[39m] \u001b[39m=\u001b[39m \u001b[39mself\u001b[39m\u001b[39m.\u001b[39m__user_utility\u001b[39m.\u001b[39mgroupby(\u001b[39m'\u001b[39m\u001b[39mUserId\u001b[39m\u001b[39m'\u001b[39m)[\u001b[39m'\u001b[39m\u001b[39mUserId\u001b[39m\u001b[39m'\u001b[39m]\u001b[39m.\u001b[39mtransform(\u001b[39m'\u001b[39m\u001b[39mcount\u001b[39m\u001b[39m'\u001b[39m)\n\u001b[1;32m     67\u001b[0m     \u001b[39mfor\u001b[39;00m feat \u001b[39min\u001b[39;00m \u001b[39mself\u001b[39m\u001b[39m.\u001b[39m__features_list:\n",
      "\u001b[0;31mAttributeError\u001b[0m: 'Rocchio' object has no attribute 'user_utility'"
     ]
    }
   ],
   "source": [
    "rocchio_recommender = content_rocchio.Rocchio(ratings)\n",
    "rocchio_recommender.fit(_content[['ItemId', 'Features']])\n"
   ]
  },
  {
   "cell_type": "code",
   "execution_count": null,
   "metadata": {},
   "outputs": [
    {
     "ename": "KeyError",
     "evalue": "'UserId'",
     "output_type": "error",
     "traceback": [
      "\u001b[0;31m---------------------------------------------------------------------------\u001b[0m",
      "\u001b[0;31mKeyError\u001b[0m                                  Traceback (most recent call last)",
      "Cell \u001b[0;32mIn [6], line 1\u001b[0m\n\u001b[0;32m----> 1\u001b[0m recommendations_ \u001b[39m=\u001b[39m rocchio_recommender\u001b[39m.\u001b[39;49mpredict(targets)\n\u001b[1;32m      2\u001b[0m recommendations_ \u001b[39m=\u001b[39m recommendations_\u001b[39m.\u001b[39mmerge(content[[\u001b[39m'\u001b[39m\u001b[39mItemId\u001b[39m\u001b[39m'\u001b[39m, \u001b[39m'\u001b[39m\u001b[39mimdbVotes\u001b[39m\u001b[39m'\u001b[39m]], on\u001b[39m=\u001b[39m\u001b[39m'\u001b[39m\u001b[39mItemId\u001b[39m\u001b[39m'\u001b[39m)\n\u001b[1;32m      3\u001b[0m recommendations_[\u001b[39m'\u001b[39m\u001b[39mSimilarity\u001b[39m\u001b[39m'\u001b[39m] \u001b[39m=\u001b[39m recommendations_[\u001b[39m'\u001b[39m\u001b[39mSimilarity\u001b[39m\u001b[39m'\u001b[39m]\u001b[39m*\u001b[39mrecommendations_[\u001b[39m'\u001b[39m\u001b[39mimdbVotes\u001b[39m\u001b[39m'\u001b[39m]\n",
      "File \u001b[0;32m~/workfolder/recommender-systems-rc2/content_rocchio.py:23\u001b[0m, in \u001b[0;36mRocchio.predict\u001b[0;34m(self, user_item_df)\u001b[0m\n\u001b[1;32m     20\u001b[0m targets \u001b[39m=\u001b[39m targets\u001b[39m.\u001b[39mmerge(\u001b[39mself\u001b[39m\u001b[39m.\u001b[39m__features, on\u001b[39m=\u001b[39m\u001b[39m'\u001b[39m\u001b[39mItemId\u001b[39m\u001b[39m'\u001b[39m, how\u001b[39m=\u001b[39m\u001b[39m'\u001b[39m\u001b[39mouter\u001b[39m\u001b[39m'\u001b[39m)\n\u001b[1;32m     21\u001b[0m targets \u001b[39m=\u001b[39m targets\u001b[39m.\u001b[39mfillna(\u001b[39m0\u001b[39m)\n\u001b[0;32m---> 23\u001b[0m targets \u001b[39m=\u001b[39m pd\u001b[39m.\u001b[39;49mmerge(targets, \u001b[39mself\u001b[39;49m\u001b[39m.\u001b[39;49m__user_utility, on\u001b[39m=\u001b[39;49m[\u001b[39m'\u001b[39;49m\u001b[39mUserId\u001b[39;49m\u001b[39m'\u001b[39;49m])\n\u001b[1;32m     25\u001b[0m similarities \u001b[39m=\u001b[39m targets[[\u001b[39m'\u001b[39m\u001b[39mUserId\u001b[39m\u001b[39m'\u001b[39m, \u001b[39m'\u001b[39m\u001b[39mItemId\u001b[39m\u001b[39m'\u001b[39m]]\n\u001b[1;32m     26\u001b[0m similarities[\u001b[39m'\u001b[39m\u001b[39muser_DOT_item\u001b[39m\u001b[39m'\u001b[39m] \u001b[39m=\u001b[39m \u001b[39m0\u001b[39m\n",
      "File \u001b[0;32m~/workfolder/recommender-systems-rc2/.venv/lib/python3.10/site-packages/pandas/core/reshape/merge.py:110\u001b[0m, in \u001b[0;36mmerge\u001b[0;34m(left, right, how, on, left_on, right_on, left_index, right_index, sort, suffixes, copy, indicator, validate)\u001b[0m\n\u001b[1;32m     93\u001b[0m \u001b[39m@Substitution\u001b[39m(\u001b[39m\"\u001b[39m\u001b[39m\\n\u001b[39;00m\u001b[39mleft : DataFrame or named Series\u001b[39m\u001b[39m\"\u001b[39m)\n\u001b[1;32m     94\u001b[0m \u001b[39m@Appender\u001b[39m(_merge_doc, indents\u001b[39m=\u001b[39m\u001b[39m0\u001b[39m)\n\u001b[1;32m     95\u001b[0m \u001b[39mdef\u001b[39;00m \u001b[39mmerge\u001b[39m(\n\u001b[0;32m   (...)\u001b[0m\n\u001b[1;32m    108\u001b[0m     validate: \u001b[39mstr\u001b[39m \u001b[39m|\u001b[39m \u001b[39mNone\u001b[39;00m \u001b[39m=\u001b[39m \u001b[39mNone\u001b[39;00m,\n\u001b[1;32m    109\u001b[0m ) \u001b[39m-\u001b[39m\u001b[39m>\u001b[39m DataFrame:\n\u001b[0;32m--> 110\u001b[0m     op \u001b[39m=\u001b[39m _MergeOperation(\n\u001b[1;32m    111\u001b[0m         left,\n\u001b[1;32m    112\u001b[0m         right,\n\u001b[1;32m    113\u001b[0m         how\u001b[39m=\u001b[39;49mhow,\n\u001b[1;32m    114\u001b[0m         on\u001b[39m=\u001b[39;49mon,\n\u001b[1;32m    115\u001b[0m         left_on\u001b[39m=\u001b[39;49mleft_on,\n\u001b[1;32m    116\u001b[0m         right_on\u001b[39m=\u001b[39;49mright_on,\n\u001b[1;32m    117\u001b[0m         left_index\u001b[39m=\u001b[39;49mleft_index,\n\u001b[1;32m    118\u001b[0m         right_index\u001b[39m=\u001b[39;49mright_index,\n\u001b[1;32m    119\u001b[0m         sort\u001b[39m=\u001b[39;49msort,\n\u001b[1;32m    120\u001b[0m         suffixes\u001b[39m=\u001b[39;49msuffixes,\n\u001b[1;32m    121\u001b[0m         indicator\u001b[39m=\u001b[39;49mindicator,\n\u001b[1;32m    122\u001b[0m         validate\u001b[39m=\u001b[39;49mvalidate,\n\u001b[1;32m    123\u001b[0m     )\n\u001b[1;32m    124\u001b[0m     \u001b[39mreturn\u001b[39;00m op\u001b[39m.\u001b[39mget_result(copy\u001b[39m=\u001b[39mcopy)\n",
      "File \u001b[0;32m~/workfolder/recommender-systems-rc2/.venv/lib/python3.10/site-packages/pandas/core/reshape/merge.py:703\u001b[0m, in \u001b[0;36m_MergeOperation.__init__\u001b[0;34m(self, left, right, how, on, left_on, right_on, axis, left_index, right_index, sort, suffixes, indicator, validate)\u001b[0m\n\u001b[1;32m    696\u001b[0m \u001b[39mself\u001b[39m\u001b[39m.\u001b[39m_cross \u001b[39m=\u001b[39m cross_col\n\u001b[1;32m    698\u001b[0m \u001b[39m# note this function has side effects\u001b[39;00m\n\u001b[1;32m    699\u001b[0m (\n\u001b[1;32m    700\u001b[0m     \u001b[39mself\u001b[39m\u001b[39m.\u001b[39mleft_join_keys,\n\u001b[1;32m    701\u001b[0m     \u001b[39mself\u001b[39m\u001b[39m.\u001b[39mright_join_keys,\n\u001b[1;32m    702\u001b[0m     \u001b[39mself\u001b[39m\u001b[39m.\u001b[39mjoin_names,\n\u001b[0;32m--> 703\u001b[0m ) \u001b[39m=\u001b[39m \u001b[39mself\u001b[39;49m\u001b[39m.\u001b[39;49m_get_merge_keys()\n\u001b[1;32m    705\u001b[0m \u001b[39m# validate the merge keys dtypes. We may need to coerce\u001b[39;00m\n\u001b[1;32m    706\u001b[0m \u001b[39m# to avoid incompatible dtypes\u001b[39;00m\n\u001b[1;32m    707\u001b[0m \u001b[39mself\u001b[39m\u001b[39m.\u001b[39m_maybe_coerce_merge_keys()\n",
      "File \u001b[0;32m~/workfolder/recommender-systems-rc2/.venv/lib/python3.10/site-packages/pandas/core/reshape/merge.py:1179\u001b[0m, in \u001b[0;36m_MergeOperation._get_merge_keys\u001b[0;34m(self)\u001b[0m\n\u001b[1;32m   1175\u001b[0m \u001b[39mif\u001b[39;00m lk \u001b[39mis\u001b[39;00m \u001b[39mnot\u001b[39;00m \u001b[39mNone\u001b[39;00m:\n\u001b[1;32m   1176\u001b[0m     \u001b[39m# Then we're either Hashable or a wrong-length arraylike,\u001b[39;00m\n\u001b[1;32m   1177\u001b[0m     \u001b[39m#  the latter of which will raise\u001b[39;00m\n\u001b[1;32m   1178\u001b[0m     lk \u001b[39m=\u001b[39m cast(Hashable, lk)\n\u001b[0;32m-> 1179\u001b[0m     left_keys\u001b[39m.\u001b[39mappend(left\u001b[39m.\u001b[39;49m_get_label_or_level_values(lk))\n\u001b[1;32m   1180\u001b[0m     join_names\u001b[39m.\u001b[39mappend(lk)\n\u001b[1;32m   1181\u001b[0m \u001b[39melse\u001b[39;00m:\n\u001b[1;32m   1182\u001b[0m     \u001b[39m# work-around for merge_asof(left_index=True)\u001b[39;00m\n",
      "File \u001b[0;32m~/workfolder/recommender-systems-rc2/.venv/lib/python3.10/site-packages/pandas/core/generic.py:1850\u001b[0m, in \u001b[0;36mNDFrame._get_label_or_level_values\u001b[0;34m(self, key, axis)\u001b[0m\n\u001b[1;32m   1844\u001b[0m     values \u001b[39m=\u001b[39m (\n\u001b[1;32m   1845\u001b[0m         \u001b[39mself\u001b[39m\u001b[39m.\u001b[39maxes[axis]\n\u001b[1;32m   1846\u001b[0m         \u001b[39m.\u001b[39mget_level_values(key)  \u001b[39m# type: ignore[assignment]\u001b[39;00m\n\u001b[1;32m   1847\u001b[0m         \u001b[39m.\u001b[39m_values\n\u001b[1;32m   1848\u001b[0m     )\n\u001b[1;32m   1849\u001b[0m \u001b[39melse\u001b[39;00m:\n\u001b[0;32m-> 1850\u001b[0m     \u001b[39mraise\u001b[39;00m \u001b[39mKeyError\u001b[39;00m(key)\n\u001b[1;32m   1852\u001b[0m \u001b[39m# Check for duplicates\u001b[39;00m\n\u001b[1;32m   1853\u001b[0m \u001b[39mif\u001b[39;00m values\u001b[39m.\u001b[39mndim \u001b[39m>\u001b[39m \u001b[39m1\u001b[39m:\n",
      "\u001b[0;31mKeyError\u001b[0m: 'UserId'"
     ]
    }
   ],
   "source": [
    "recommendations_ = rocchio_recommender.predict(targets)\n",
    "recommendations_ = recommendations_.merge(_content[['ItemId', 'imdbVotes']], on='ItemId')\n",
    "recommendations_['Similarity'] = recommendations_['Similarity']*recommendations_['imdbVotes']\n",
    "recommendations_ = recommendations_.sort_values(['UserId','Similarity','imdbVotes'], ascending=[True, False, False])\n",
    "output = recommendations_[['UserId', 'ItemId']].copy()\n",
    "\n",
    "output_file = open('out.csv','w')\n",
    "print('UserId,ItemId', file=output_file)\n",
    "pd.set_option(\"display.max_rows\", None, \"display.max_columns\", None)\n",
    "output = output.to_numpy()\n",
    "for user, item in output:\n",
    "    print('{},{}'.format(user,item), file=output_file)"
   ]
  }
 ],
 "metadata": {
  "kernelspec": {
   "display_name": "Python 3.10.6 ('.venv': venv)",
   "language": "python",
   "name": "python3"
  },
  "language_info": {
   "codemirror_mode": {
    "name": "ipython",
    "version": 3
   },
   "file_extension": ".py",
   "mimetype": "text/x-python",
   "name": "python",
   "nbconvert_exporter": "python",
   "pygments_lexer": "ipython3",
   "version": "3.10.6"
  },
  "orig_nbformat": 4,
  "vscode": {
   "interpreter": {
    "hash": "975b71ad6f8335503efacba375a12c3705c18b07b39b349f3fd282e5495c43f4"
   }
  }
 },
 "nbformat": 4,
 "nbformat_minor": 2
}
