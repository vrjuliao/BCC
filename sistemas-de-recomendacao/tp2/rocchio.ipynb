{
 "cells": [
  {
   "cell_type": "code",
   "execution_count": 1,
   "metadata": {},
   "outputs": [],
   "source": [
    "import numpy as np\n",
    "import pandas as pd"
   ]
  },
  {
   "cell_type": "code",
   "execution_count": 2,
   "metadata": {},
   "outputs": [],
   "source": [
    "import content_rocchio"
   ]
  },
  {
   "cell_type": "code",
   "execution_count": 3,
   "metadata": {},
   "outputs": [],
   "source": [
    "ratings = pd.read_json('./ratings.jsonl', lines=True)\n",
    "content = pd.read_json('./content.jsonl', lines=True)\n",
    "targets = pd.read_csv('targets.csv', encoding='latin-1', sep=',')"
   ]
  },
  {
   "cell_type": "code",
   "execution_count": 4,
   "metadata": {},
   "outputs": [
    {
     "name": "stderr",
     "output_type": "stream",
     "text": [
      "/tmp/ipykernel_36179/1151917588.py:2: SettingWithCopyWarning: \n",
      "A value is trying to be set on a copy of a slice from a DataFrame.\n",
      "Try using .loc[row_indexer,col_indexer] = value instead\n",
      "\n",
      "See the caveats in the documentation: https://pandas.pydata.org/pandas-docs/stable/user_guide/indexing.html#returning-a-view-versus-a-copy\n",
      "  _content['Actors'] = _content.Actors.astype(str)\n",
      "/tmp/ipykernel_36179/1151917588.py:4: SettingWithCopyWarning: \n",
      "A value is trying to be set on a copy of a slice from a DataFrame.\n",
      "Try using .loc[row_indexer,col_indexer] = value instead\n",
      "\n",
      "See the caveats in the documentation: https://pandas.pydata.org/pandas-docs/stable/user_guide/indexing.html#returning-a-view-versus-a-copy\n",
      "  _content['Genre'] = _content.Genre.astype(str)\n",
      "/tmp/ipykernel_36179/1151917588.py:5: SettingWithCopyWarning: \n",
      "A value is trying to be set on a copy of a slice from a DataFrame.\n",
      "Try using .loc[row_indexer,col_indexer] = value instead\n",
      "\n",
      "See the caveats in the documentation: https://pandas.pydata.org/pandas-docs/stable/user_guide/indexing.html#returning-a-view-versus-a-copy\n",
      "  _content['Director'] = _content.Director.astype(str)\n",
      "/tmp/ipykernel_36179/1151917588.py:9: SettingWithCopyWarning: \n",
      "A value is trying to be set on a copy of a slice from a DataFrame.\n",
      "Try using .loc[row_indexer,col_indexer] = value instead\n",
      "\n",
      "See the caveats in the documentation: https://pandas.pydata.org/pandas-docs/stable/user_guide/indexing.html#returning-a-view-versus-a-copy\n",
      "  _content['Director'] = _content['Director'].apply(lambda x: ' '.join(x.replace(' ', '').lower() for x in x.split(', ')))\n",
      "/tmp/ipykernel_36179/1151917588.py:10: SettingWithCopyWarning: \n",
      "A value is trying to be set on a copy of a slice from a DataFrame.\n",
      "Try using .loc[row_indexer,col_indexer] = value instead\n",
      "\n",
      "See the caveats in the documentation: https://pandas.pydata.org/pandas-docs/stable/user_guide/indexing.html#returning-a-view-versus-a-copy\n",
      "  _content['Actors'] = _content['Actors'].apply(lambda x: ' '.join(x.replace(' ', '').lower() for x in x.split(', ')))\n",
      "/tmp/ipykernel_36179/1151917588.py:17: SettingWithCopyWarning: \n",
      "A value is trying to be set on a copy of a slice from a DataFrame.\n",
      "Try using .loc[row_indexer,col_indexer] = value instead\n",
      "\n",
      "See the caveats in the documentation: https://pandas.pydata.org/pandas-docs/stable/user_guide/indexing.html#returning-a-view-versus-a-copy\n",
      "  _content['Genre'] = _content['Genre'].map(lambda x: x.lower().replace(', ', ' '))\n",
      "/tmp/ipykernel_36179/1151917588.py:19: SettingWithCopyWarning: \n",
      "A value is trying to be set on a copy of a slice from a DataFrame.\n",
      "Try using .loc[row_indexer,col_indexer] = value instead\n",
      "\n",
      "See the caveats in the documentation: https://pandas.pydata.org/pandas-docs/stable/user_guide/indexing.html#returning-a-view-versus-a-copy\n",
      "  _content['Features'] = _content['Genre']\n",
      "/tmp/ipykernel_36179/1151917588.py:21: SettingWithCopyWarning: \n",
      "A value is trying to be set on a copy of a slice from a DataFrame.\n",
      "Try using .loc[row_indexer,col_indexer] = value instead\n",
      "\n",
      "See the caveats in the documentation: https://pandas.pydata.org/pandas-docs/stable/user_guide/indexing.html#returning-a-view-versus-a-copy\n",
      "  _content['imdbVotes'] = _content['imdbVotes'].str.replace('N/A', '1', regex=True)\n",
      "/tmp/ipykernel_36179/1151917588.py:22: SettingWithCopyWarning: \n",
      "A value is trying to be set on a copy of a slice from a DataFrame.\n",
      "Try using .loc[row_indexer,col_indexer] = value instead\n",
      "\n",
      "See the caveats in the documentation: https://pandas.pydata.org/pandas-docs/stable/user_guide/indexing.html#returning-a-view-versus-a-copy\n",
      "  _content['imdbVotes'] = _content['imdbVotes'].str.replace(',', '', regex=True)\n",
      "/tmp/ipykernel_36179/1151917588.py:23: SettingWithCopyWarning: \n",
      "A value is trying to be set on a copy of a slice from a DataFrame.\n",
      "Try using .loc[row_indexer,col_indexer] = value instead\n",
      "\n",
      "See the caveats in the documentation: https://pandas.pydata.org/pandas-docs/stable/user_guide/indexing.html#returning-a-view-versus-a-copy\n",
      "  _content['imdbVotes'] = _content['imdbVotes'].astype(str).astype('float64')\n"
     ]
    }
   ],
   "source": [
    "_content = content[['ItemId', 'Actors', 'Director', 'Genre', 'Title', 'imdbVotes']]\n",
    "_content['Actors'] = _content.Actors.astype(str)\n",
    "# df_1['plot_keywords'] = df_1.plot_keywords.astype(str) # get keywords from the 'Plot' field\n",
    "_content['Genre'] = _content.Genre.astype(str)\n",
    "_content['Director'] = _content.Director.astype(str)\n",
    "\n",
    "\n",
    "# Removing spaces between names\n",
    "_content['Director'] = _content['Director'].apply(lambda x: ' '.join(x.replace(' ', '').lower() for x in x.split(', ')))\n",
    "_content['Actors'] = _content['Actors'].apply(lambda x: ' '.join(x.replace(' ', '').lower() for x in x.split(', ')))\n",
    "\n",
    "# Discarding the pipes between the plot keywords' and getting only the first five words\n",
    "# df_1['plot_keywords'] = df_1['plot_keywords'].map(lambda x: x.split('|')) # 'Plot' field but only the keywords\n",
    "# df_1['plot_keywords'] = df_1['plot_keywords'].apply(lambda x: \" \".join(x)) #  'Plot' field but only the keywords\n",
    "\n",
    "# Discarding the pipes between the genres \n",
    "_content['Genre'] = _content['Genre'].map(lambda x: x.lower().replace(', ', ' '))\n",
    "# _content['Features'] = _content['Actors'] +' '+ _content['Director'] +' '+ _content['Genre']\n",
    "_content['Features'] = _content['Genre']\n",
    "\n",
    "_content['imdbVotes'] = _content['imdbVotes'].str.replace('N/A', '1', regex=True)\n",
    "_content['imdbVotes'] = _content['imdbVotes'].str.replace(',', '', regex=True)\n",
    "_content['imdbVotes'] = _content['imdbVotes'].astype(str).astype('float64')"
   ]
  },
  {
   "cell_type": "code",
   "execution_count": 5,
   "metadata": {},
   "outputs": [],
   "source": [
    "rocchio_recommender = content_rocchio.Rocchio(ratings)\n",
    "rocchio_recommender.fit(_content[['ItemId', 'Features']])\n"
   ]
  },
  {
   "cell_type": "code",
   "execution_count": 6,
   "metadata": {},
   "outputs": [
    {
     "name": "stderr",
     "output_type": "stream",
     "text": [
      "/home/vrjuliao/workfolder/recommender-systems-rc2/content_rocchio.py:24: SettingWithCopyWarning: \n",
      "A value is trying to be set on a copy of a slice from a DataFrame.\n",
      "Try using .loc[row_indexer,col_indexer] = value instead\n",
      "\n",
      "See the caveats in the documentation: https://pandas.pydata.org/pandas-docs/stable/user_guide/indexing.html#returning-a-view-versus-a-copy\n",
      "  consine_sim['user_DOT_item'] = 0\n",
      "/home/vrjuliao/workfolder/recommender-systems-rc2/content_rocchio.py:25: SettingWithCopyWarning: \n",
      "A value is trying to be set on a copy of a slice from a DataFrame.\n",
      "Try using .loc[row_indexer,col_indexer] = value instead\n",
      "\n",
      "See the caveats in the documentation: https://pandas.pydata.org/pandas-docs/stable/user_guide/indexing.html#returning-a-view-versus-a-copy\n",
      "  consine_sim['user_distance'] = 0\n",
      "/home/vrjuliao/workfolder/recommender-systems-rc2/content_rocchio.py:26: SettingWithCopyWarning: \n",
      "A value is trying to be set on a copy of a slice from a DataFrame.\n",
      "Try using .loc[row_indexer,col_indexer] = value instead\n",
      "\n",
      "See the caveats in the documentation: https://pandas.pydata.org/pandas-docs/stable/user_guide/indexing.html#returning-a-view-versus-a-copy\n",
      "  consine_sim['item_distance'] = 0\n",
      "/home/vrjuliao/workfolder/recommender-systems-rc2/content_rocchio.py:29: SettingWithCopyWarning: \n",
      "A value is trying to be set on a copy of a slice from a DataFrame.\n",
      "Try using .loc[row_indexer,col_indexer] = value instead\n",
      "\n",
      "See the caveats in the documentation: https://pandas.pydata.org/pandas-docs/stable/user_guide/indexing.html#returning-a-view-versus-a-copy\n",
      "  consine_sim['user_DOT_item'] += targets['u_' + feat] * targets[feat]\n",
      "/home/vrjuliao/workfolder/recommender-systems-rc2/content_rocchio.py:30: SettingWithCopyWarning: \n",
      "A value is trying to be set on a copy of a slice from a DataFrame.\n",
      "Try using .loc[row_indexer,col_indexer] = value instead\n",
      "\n",
      "See the caveats in the documentation: https://pandas.pydata.org/pandas-docs/stable/user_guide/indexing.html#returning-a-view-versus-a-copy\n",
      "  consine_sim['user_distance'] += targets['u_' + feat] * targets['u_' + feat]\n",
      "/home/vrjuliao/workfolder/recommender-systems-rc2/content_rocchio.py:31: SettingWithCopyWarning: \n",
      "A value is trying to be set on a copy of a slice from a DataFrame.\n",
      "Try using .loc[row_indexer,col_indexer] = value instead\n",
      "\n",
      "See the caveats in the documentation: https://pandas.pydata.org/pandas-docs/stable/user_guide/indexing.html#returning-a-view-versus-a-copy\n",
      "  consine_sim['item_distance'] += targets[feat]        * targets[feat]\n",
      "/home/vrjuliao/workfolder/recommender-systems-rc2/content_rocchio.py:33: SettingWithCopyWarning: \n",
      "A value is trying to be set on a copy of a slice from a DataFrame.\n",
      "Try using .loc[row_indexer,col_indexer] = value instead\n",
      "\n",
      "See the caveats in the documentation: https://pandas.pydata.org/pandas-docs/stable/user_guide/indexing.html#returning-a-view-versus-a-copy\n",
      "  consine_sim['user_distance'] = consine_sim['user_distance'].pow(1./2)\n",
      "/home/vrjuliao/workfolder/recommender-systems-rc2/content_rocchio.py:34: SettingWithCopyWarning: \n",
      "A value is trying to be set on a copy of a slice from a DataFrame.\n",
      "Try using .loc[row_indexer,col_indexer] = value instead\n",
      "\n",
      "See the caveats in the documentation: https://pandas.pydata.org/pandas-docs/stable/user_guide/indexing.html#returning-a-view-versus-a-copy\n",
      "  consine_sim['item_distance'] = consine_sim['item_distance'].pow(1./2)\n",
      "/home/vrjuliao/workfolder/recommender-systems-rc2/content_rocchio.py:35: SettingWithCopyWarning: \n",
      "A value is trying to be set on a copy of a slice from a DataFrame.\n",
      "Try using .loc[row_indexer,col_indexer] = value instead\n",
      "\n",
      "See the caveats in the documentation: https://pandas.pydata.org/pandas-docs/stable/user_guide/indexing.html#returning-a-view-versus-a-copy\n",
      "  consine_sim['Similarity']    = consine_sim['user_DOT_item'] / \\\n"
     ]
    }
   ],
   "source": [
    "recommendations_ = rocchio_recommender.predict(targets)\n",
    "recommendations_ = recommendations_.merge(_content[['ItemId', 'imdbVotes']], on='ItemId')\n",
    "recommendations_['Similarity'] = recommendations_['Similarity']*recommendations_['imdbVotes']\n",
    "recommendations_ = recommendations_.sort_values(['UserId','Similarity','imdbVotes'], ascending=[True, False, False])\n",
    "output = recommendations_[['UserId', 'ItemId']].copy()\n",
    "\n",
    "output_file = open('out.csv','w')\n",
    "print('UserId,ItemId', file=output_file)\n",
    "pd.set_option(\"display.max_rows\", None, \"display.max_columns\", None)\n",
    "output = output.to_numpy()\n",
    "for user, item in output:\n",
    "    print('{},{}'.format(user,item), file=output_file)"
   ]
  }
 ],
 "metadata": {
  "kernelspec": {
   "display_name": "Python 3.10.6 ('.venv': venv)",
   "language": "python",
   "name": "python3"
  },
  "language_info": {
   "codemirror_mode": {
    "name": "ipython",
    "version": 3
   },
   "file_extension": ".py",
   "mimetype": "text/x-python",
   "name": "python",
   "nbconvert_exporter": "python",
   "pygments_lexer": "ipython3",
   "version": "3.10.6"
  },
  "orig_nbformat": 4,
  "vscode": {
   "interpreter": {
    "hash": "975b71ad6f8335503efacba375a12c3705c18b07b39b349f3fd282e5495c43f4"
   }
  }
 },
 "nbformat": 4,
 "nbformat_minor": 2
}
