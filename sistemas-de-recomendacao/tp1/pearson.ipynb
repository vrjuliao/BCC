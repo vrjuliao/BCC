{
 "cells": [
  {
   "cell_type": "code",
   "execution_count": 2,
   "metadata": {},
   "outputs": [],
   "source": [
    "import numpy as np\n",
    "import pandas as pd\n",
    "import dateutil as dtutil\n",
    "import pytz\n",
    "import six\n"
   ]
  },
  {
   "cell_type": "code",
   "execution_count": 4,
   "metadata": {},
   "outputs": [
    {
     "data": {
      "text/plain": [
       "'1.19.5'"
      ]
     },
     "execution_count": 4,
     "metadata": {},
     "output_type": "execute_result"
    }
   ],
   "source": [
    "np.__version__"
   ]
  },
  {
   "cell_type": "code",
   "execution_count": 5,
   "metadata": {},
   "outputs": [
    {
     "data": {
      "text/plain": [
       "'1.1.5'"
      ]
     },
     "execution_count": 5,
     "metadata": {},
     "output_type": "execute_result"
    }
   ],
   "source": [
    "pd.__version__"
   ]
  },
  {
   "cell_type": "code",
   "execution_count": 17,
   "metadata": {},
   "outputs": [
    {
     "name": "stderr",
     "output_type": "stream",
     "text": [
      "/tmp/ipykernel_42225/3026495763.py:1: ParserWarning: Falling back to the 'python' engine because the 'c' engine does not support regex separators (separators > 1 char and different from '\\s+' are interpreted as regex); you can avoid this warning by specifying engine='python'.\n",
      "  ratings = pd.read_csv('ratings.csv', encoding='latin-1', sep=',|:')\n"
     ]
    },
    {
     "data": {
      "text/html": [
       "<div>\n",
       "<style scoped>\n",
       "    .dataframe tbody tr th:only-of-type {\n",
       "        vertical-align: middle;\n",
       "    }\n",
       "\n",
       "    .dataframe tbody tr th {\n",
       "        vertical-align: top;\n",
       "    }\n",
       "\n",
       "    .dataframe thead th {\n",
       "        text-align: right;\n",
       "    }\n",
       "</style>\n",
       "<table border=\"1\" class=\"dataframe\">\n",
       "  <thead>\n",
       "    <tr style=\"text-align: right;\">\n",
       "      <th></th>\n",
       "      <th>UserId</th>\n",
       "      <th>ItemId</th>\n",
       "      <th>Rating</th>\n",
       "    </tr>\n",
       "  </thead>\n",
       "  <tbody>\n",
       "    <tr>\n",
       "      <th>0</th>\n",
       "      <td>4baf0ac888</td>\n",
       "      <td>8b05db84f2</td>\n",
       "      <td>3</td>\n",
       "    </tr>\n",
       "    <tr>\n",
       "      <th>1</th>\n",
       "      <td>f3364fd7e6</td>\n",
       "      <td>8b05db84f2</td>\n",
       "      <td>2</td>\n",
       "    </tr>\n",
       "    <tr>\n",
       "      <th>2</th>\n",
       "      <td>72a8982204</td>\n",
       "      <td>8b05db84f2</td>\n",
       "      <td>5</td>\n",
       "    </tr>\n",
       "    <tr>\n",
       "      <th>3</th>\n",
       "      <td>d0171f7a9d</td>\n",
       "      <td>e40cec3cbe</td>\n",
       "      <td>5</td>\n",
       "    </tr>\n",
       "    <tr>\n",
       "      <th>4</th>\n",
       "      <td>e6dad08499</td>\n",
       "      <td>e40cec3cbe</td>\n",
       "      <td>5</td>\n",
       "    </tr>\n",
       "  </tbody>\n",
       "</table>\n",
       "</div>"
      ],
      "text/plain": [
       "       UserId      ItemId  Rating\n",
       "0  4baf0ac888  8b05db84f2       3\n",
       "1  f3364fd7e6  8b05db84f2       2\n",
       "2  72a8982204  8b05db84f2       5\n",
       "3  d0171f7a9d  e40cec3cbe       5\n",
       "4  e6dad08499  e40cec3cbe       5"
      ]
     },
     "execution_count": 17,
     "metadata": {},
     "output_type": "execute_result"
    }
   ],
   "source": [
    "ratings = pd.read_csv('ratings.csv', encoding='latin-1', sep=',|:')\n",
    "ratings.head()"
   ]
  },
  {
   "cell_type": "code",
   "execution_count": 15,
   "metadata": {},
   "outputs": [
    {
     "data": {
      "text/html": [
       "<div>\n",
       "<style scoped>\n",
       "    .dataframe tbody tr th:only-of-type {\n",
       "        vertical-align: middle;\n",
       "    }\n",
       "\n",
       "    .dataframe tbody tr th {\n",
       "        vertical-align: top;\n",
       "    }\n",
       "\n",
       "    .dataframe thead th {\n",
       "        text-align: right;\n",
       "    }\n",
       "</style>\n",
       "<table border=\"1\" class=\"dataframe\">\n",
       "  <thead>\n",
       "    <tr style=\"text-align: right;\">\n",
       "      <th></th>\n",
       "      <th>UserId</th>\n",
       "      <th>Rating</th>\n",
       "    </tr>\n",
       "  </thead>\n",
       "  <tbody>\n",
       "    <tr>\n",
       "      <th>0</th>\n",
       "      <td>4baf0ac888</td>\n",
       "      <td>3.75</td>\n",
       "    </tr>\n",
       "    <tr>\n",
       "      <th>1</th>\n",
       "      <td>f3364fd7e6</td>\n",
       "      <td>1.50</td>\n",
       "    </tr>\n",
       "    <tr>\n",
       "      <th>2</th>\n",
       "      <td>72a8982204</td>\n",
       "      <td>5.00</td>\n",
       "    </tr>\n",
       "    <tr>\n",
       "      <th>3</th>\n",
       "      <td>d0171f7a9d</td>\n",
       "      <td>5.00</td>\n",
       "    </tr>\n",
       "    <tr>\n",
       "      <th>4</th>\n",
       "      <td>e6dad08499</td>\n",
       "      <td>4.00</td>\n",
       "    </tr>\n",
       "  </tbody>\n",
       "</table>\n",
       "</div>"
      ],
      "text/plain": [
       "       UserId  Rating\n",
       "0  4baf0ac888    3.75\n",
       "1  f3364fd7e6    1.50\n",
       "2  72a8982204    5.00\n",
       "3  d0171f7a9d    5.00\n",
       "4  e6dad08499    4.00"
      ]
     },
     "execution_count": 15,
     "metadata": {},
     "output_type": "execute_result"
    }
   ],
   "source": [
    "mean = ratings.groupby(['UserId'], as_index = False, sort = False).mean()\n",
    "mean.head()"
   ]
  },
  {
   "cell_type": "code",
   "execution_count": 19,
   "metadata": {},
   "outputs": [
    {
     "data": {
      "text/html": [
       "<div>\n",
       "<style scoped>\n",
       "    .dataframe tbody tr th:only-of-type {\n",
       "        vertical-align: middle;\n",
       "    }\n",
       "\n",
       "    .dataframe tbody tr th {\n",
       "        vertical-align: top;\n",
       "    }\n",
       "\n",
       "    .dataframe thead th {\n",
       "        text-align: right;\n",
       "    }\n",
       "</style>\n",
       "<table border=\"1\" class=\"dataframe\">\n",
       "  <thead>\n",
       "    <tr style=\"text-align: right;\">\n",
       "      <th></th>\n",
       "      <th>UserId</th>\n",
       "      <th>ItemId</th>\n",
       "      <th>Rating_x</th>\n",
       "      <th>Rating_y</th>\n",
       "      <th>centered_rating</th>\n",
       "    </tr>\n",
       "  </thead>\n",
       "  <tbody>\n",
       "    <tr>\n",
       "      <th>0</th>\n",
       "      <td>4baf0ac888</td>\n",
       "      <td>8b05db84f2</td>\n",
       "      <td>3</td>\n",
       "      <td>3.75</td>\n",
       "      <td>-0.75</td>\n",
       "    </tr>\n",
       "    <tr>\n",
       "      <th>1</th>\n",
       "      <td>f3364fd7e6</td>\n",
       "      <td>8b05db84f2</td>\n",
       "      <td>2</td>\n",
       "      <td>1.50</td>\n",
       "      <td>0.50</td>\n",
       "    </tr>\n",
       "    <tr>\n",
       "      <th>2</th>\n",
       "      <td>72a8982204</td>\n",
       "      <td>8b05db84f2</td>\n",
       "      <td>5</td>\n",
       "      <td>5.00</td>\n",
       "      <td>0.00</td>\n",
       "    </tr>\n",
       "    <tr>\n",
       "      <th>3</th>\n",
       "      <td>d0171f7a9d</td>\n",
       "      <td>e40cec3cbe</td>\n",
       "      <td>5</td>\n",
       "      <td>5.00</td>\n",
       "      <td>0.00</td>\n",
       "    </tr>\n",
       "    <tr>\n",
       "      <th>4</th>\n",
       "      <td>e6dad08499</td>\n",
       "      <td>e40cec3cbe</td>\n",
       "      <td>5</td>\n",
       "      <td>4.00</td>\n",
       "      <td>1.00</td>\n",
       "    </tr>\n",
       "  </tbody>\n",
       "</table>\n",
       "</div>"
      ],
      "text/plain": [
       "       UserId      ItemId  Rating_x  Rating_y  centered_rating\n",
       "0  4baf0ac888  8b05db84f2         3      3.75            -0.75\n",
       "1  f3364fd7e6  8b05db84f2         2      1.50             0.50\n",
       "2  72a8982204  8b05db84f2         5      5.00             0.00\n",
       "3  d0171f7a9d  e40cec3cbe         5      5.00             0.00\n",
       "4  e6dad08499  e40cec3cbe         5      4.00             1.00"
      ]
     },
     "execution_count": 19,
     "metadata": {},
     "output_type": "execute_result"
    }
   ],
   "source": [
    "ratings = pd.merge(ratings, mean, on='UserId', how='left', sort=False)\n",
    "ratings['centered_rating'] = ratings['Rating_x']-ratings['Rating_y']\n",
    "ratings.head()"
   ]
  },
  {
   "cell_type": "code",
   "execution_count": 65,
   "metadata": {},
   "outputs": [
    {
     "data": {
      "text/plain": [
       "[('test_user', 1),\n",
       " ('08750e4950', 0.577350269189626),\n",
       " ('2d21554615', 0.5773502691896255),\n",
       " ('2499fe7714', 0.5669467095138409),\n",
       " ('e26fbf09e6', 0.2886751345948126),\n",
       " ('28523fc4c6', 0.17739371879672491),\n",
       " ('193778e207', 0.08451542547285162),\n",
       " ('fffffc52fc', 0.0),\n",
       " ('ffffec2967', 0.0),\n",
       " ('ffffcdee5f', 0.0),\n",
       " ('ffffbeb8e0', 0.0),\n",
       " ('ffff829476', 0.0),\n",
       " ('ffff7821c4', 0.0),\n",
       " ('ffff722d66', 0.0),\n",
       " ('ffff5a7502', 0.0)]"
      ]
     },
     "execution_count": 65,
     "metadata": {},
     "output_type": "execute_result"
    }
   ],
   "source": [
    "item_to_user = {}\n",
    "user_to_item = {}\n",
    "for (_, row) in ratings.iterrows():\n",
    "    user_id = row['UserId']\n",
    "    item_id = row['ItemId']\n",
    "    rating = row['centered_rating']\n",
    "    if item_id not in item_to_user: item_to_user[item_id] = {}\n",
    "    item_to_user[item_id][user_id] = rating\n",
    "    if user_id not in user_to_item: user_to_item[user_id] = {}\n",
    "    user_to_item[user_id][item_id] = rating\n",
    "\n",
    "test_user = 'f3364fd7e6'\n",
    "test_user_items = np.array(list(user_to_item[test_user].values())).astype(float)\n",
    "denominator1 =  np.sqrt(sum(np.square(test_user_items)))\n",
    "cosine_similarity = [(test_user, 1)]\n",
    "\n",
    "for (user_id, items_map) in user_to_item.items():\n",
    "    if user_id == test_user: continue\n",
    "    numerator = [x*user_to_item[test_user][item_id] for (item_id, x) in items_map.items() if item_id in user_to_item[test_user]]\n",
    "    denominator2 = np.sqrt(np.sum(np.square(list(items_map.values())).astype(float)))\n",
    "    numerator_sum = np.sum(numerator)\n",
    "    costheta = numerator_sum / (denominator1*denominator2) if numerator_sum != 0. else 0.\n",
    "    cosine_similarity.append((user_id, costheta))\n",
    "\n",
    "\n",
    "cosine_similarity.sort(key=lambda x: (x[1], x[0]), reverse=True)\n",
    "cosine_similarity[:15]\n",
    "\n",
    "\n"
   ]
  },
  {
   "cell_type": "code",
   "execution_count": 64,
   "metadata": {},
   "outputs": [
    {
     "data": {
      "text/plain": [
       "[('08750e4950', 0.577350269189626),\n",
       " ('2d21554615', 0.5773502691896255),\n",
       " ('2499fe7714', 0.5669467095138409),\n",
       " ('e26fbf09e6', 0.2886751345948126),\n",
       " ('28523fc4c6', 0.17739371879672491),\n",
       " ('193778e207', 0.08451542547285162),\n",
       " ('fffffc52fc', 0.0),\n",
       " ('ffffec2967', 0.0),\n",
       " ('ffffcdee5f', 0.0),\n",
       " ('ffffbeb8e0', 0.0),\n",
       " ('ffff829476', 0.0),\n",
       " ('ffff7821c4', 0.0),\n",
       " ('ffff722d66', 0.0),\n",
       " ('ffff5a7502', 0.0),\n",
       " ('ffff33af4a', 0.0)]"
      ]
     },
     "execution_count": 64,
     "metadata": {},
     "output_type": "execute_result"
    }
   ],
   "source": [
    "cosine_similarity = []\n",
    "for (user_id, items_map) in user_to_item.items():\n",
    "    if user_id == test_user: continue\n",
    "    numerator = [x*user_to_item[test_user][item_id] for (item_id, x) in items_map.items() if item_id in user_to_item[test_user]]\n",
    "    # print(items_map)\n",
    "    # print(np.nansum(np.sqrt(np.square(list(items_map.values())))))\n",
    "    denominator2 = np.sqrt(np.sum(np.square(list(items_map.values()))))\n",
    "    numerator_sum = np.sum(numerator)\n",
    "    costheta = numerator_sum / (denominator1*denominator2) if numerator_sum != 0. else 0.\n",
    "    # if(denominator2 == 0. and np.nansum(numerator) != 0.):\n",
    "    # if(denominator2 == 0. ):\n",
    "    #         print(items_map)\n",
    "    #         # print(\"Denominator1\", denominator1 )\n",
    "    #         # print(\"Denominator2\", denominator2 )\n",
    "    #         # print(\"NumeratorSum\", np.nansum(numerator) )\n",
    "    #         break\n",
    "    # break\n",
    "    cosine_similarity.append((user_id, costheta))\n",
    "\n",
    "\n",
    "cosine_similarity.sort(key=lambda x: (x[1], x[0]), reverse=True)\n",
    "cosine_similarity[:15]"
   ]
  },
  {
   "cell_type": "code",
   "execution_count": 36,
   "metadata": {},
   "outputs": [
    {
     "data": {
      "text/plain": [
       "[('my_test', 22.0),\n",
       " ('test_user', 1),\n",
       " ('72a8982204', nan),\n",
       " ('d0171f7a9d', nan),\n",
       " ('fa8e618830', 0.0),\n",
       " ('fa154404a9', 0.0),\n",
       " ('f50191053a', 0.0),\n",
       " ('f45e03186b', 0.0),\n",
       " ('f3d22ec598', 0.0),\n",
       " ('ea381ccbf6', 0.0),\n",
       " ('e6dad08499', 0.0),\n",
       " ('dd9d23b955', 0.0),\n",
       " ('d8e882dee0', 0.0),\n",
       " ('c506637567', 0.0)]"
      ]
     },
     "execution_count": 36,
     "metadata": {},
     "output_type": "execute_result"
    }
   ],
   "source": [
    "cosine_similarity.append(('my_test', 22.))\n",
    "cosine_similarity.sort(key=lambda x: (x[1], x[0]), reverse=True)\n",
    "cosine_similarity[:14]"
   ]
  }
 ],
 "metadata": {
  "kernelspec": {
   "display_name": "Python 3.10.7 ('.venv': venv)",
   "language": "python",
   "name": "python3"
  },
  "language_info": {
   "codemirror_mode": {
    "name": "ipython",
    "version": 3
   },
   "file_extension": ".py",
   "mimetype": "text/x-python",
   "name": "python",
   "nbconvert_exporter": "python",
   "pygments_lexer": "ipython3",
   "version": "3.8.10"
  },
  "orig_nbformat": 4,
  "vscode": {
   "interpreter": {
    "hash": "9c50189147e427894fb3c5d4a0e20b0971ddc7526f1a052202ce7d4c439c82b6"
   }
  }
 },
 "nbformat": 4,
 "nbformat_minor": 2
}
