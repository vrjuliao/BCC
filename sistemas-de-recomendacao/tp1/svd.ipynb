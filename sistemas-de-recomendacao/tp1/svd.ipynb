{
 "cells": [
  {
   "cell_type": "code",
   "execution_count": 1,
   "metadata": {},
   "outputs": [],
   "source": [
    "import numpy as np\n",
    "import pandas as pd"
   ]
  },
  {
   "cell_type": "code",
   "execution_count": 3,
   "metadata": {},
   "outputs": [],
   "source": [
    "class svd():\n",
    "\n",
    "    def __init__(self, epochs = 20, lr = 0.005, n_factors=5, reg=0.1):\n",
    "        self.epochs = epochs\n",
    "        self.lr = lr\n",
    "        self.n_factors = n_factors\n",
    "        self.reg = reg\n",
    "\n",
    "    def read_ratings(self, ratings_path):\n",
    "        df = pd.read_csv(ratings_path)\n",
    "        self.user_index = {}\n",
    "        self.item_index = {}\n",
    "        self.user_avg = {}\n",
    "        self.item_avg = {}\n",
    "        u_ind = 0\n",
    "        i_ind = 0\n",
    "        self.ratings = []\n",
    "        for row in df.itertuples():\n",
    "            userid = row[1].split(\":\")[0]\n",
    "            itemid = row[1].split(\":\")[1]\n",
    "            if userid not in self.user_index.keys():\n",
    "                self.user_index[userid] = u_ind\n",
    "                self.user_avg[userid] = []\n",
    "                u_ind+=1\n",
    "            self.user_avg[userid].append(row.Prediction)\n",
    "            if itemid not in self.item_index.keys():\n",
    "                self.item_index[itemid] = i_ind\n",
    "                self.item_avg[itemid] = []\n",
    "                i_ind+=1\n",
    "            self.item_avg[itemid].append(row.Prediction)\n",
    "            self.ratings.append((self.user_index[userid], self.item_index[itemid], float(row.Prediction)))\n",
    "        self.average_rating = df[\"Prediction\"].mean()\n",
    "\n",
    "    def predict(self, u, i):\n",
    "        pred = 0.0\n",
    "        for f in range(self.n_factors):\n",
    "            pred += self.P[u][f] * self.Q[f][i]\n",
    "        return pred\n",
    "\n",
    "    def stochastic_gradient(self):\n",
    "        self.P = np.ones((len(self.user_index), self.n_factors))\n",
    "        self.Q = np.ones((self.n_factors, (len(self.item_index))))\n",
    "        print(type(self.P))\n",
    "        # self.Q = self.Q.T\n",
    "        # self.lr = 0.01\n",
    "        # sum_ = 0\n",
    "        for s in range(self.epochs):\n",
    "            rmse = 0\n",
    "            for u, i, rui in self.ratings:\n",
    "                eui = rui -  self.predict(u, i)\n",
    "                # rmse += eui*eui\n",
    "                \n",
    "                for f in range(self.n_factors):\n",
    "                    self.P[u][f] = self.P[u][f] + self.lr * (2*eui*self.Q[f][i] - self.reg*self.P[u][f])\n",
    "                    self.Q[f][i] = self.Q[f][i] + self.lr * (2*eui*self.P[u][f] - self.reg*self.Q[f][i])\n",
    "                sum_+=1\n",
    "            # self.lr -= 0.00025\n",
    "            # rmse/=sum_\n",
    "            # print(\"Epoch {}, rmse: {}\".format(s, rmse))\n",
    "\n",
    "\n",
    "    def submission(self, targets_path):\n",
    "        df = pd.read_csv(targets_path)\n",
    "        print(\"UserId:ItemId,Prediction\")\n",
    "        for row in df.itertuples():\n",
    "            userid = row[1].split(\":\")[0]\n",
    "            itemid = row[1].split(\":\")[1]\n",
    "            if userid in self.user_index.keys() and itemid in self.item_index.keys():\n",
    "                prediction = self.predict(self.user_index[userid], self.item_index[itemid])\n",
    "                if prediction > 10:\n",
    "                    prediction = 10\n",
    "                elif prediction < 0:\n",
    "                    prediction = 0\n",
    "            elif userid in self.user_index.keys():\n",
    "                prediction = np.mean(self.user_avg[userid])\n",
    "            elif itemid in self.item_index.keys():\n",
    "                prediction = np.mean(self.item_avg[itemid])\n",
    "            else:\n",
    "                prediction = self.average_rating \n",
    "            print(\"{}:{},{}\".format(userid, itemid, prediction))"
   ]
  },
  {
   "cell_type": "code",
   "execution_count": null,
   "metadata": {},
   "outputs": [],
   "source": []
  }
 ],
 "metadata": {
  "kernelspec": {
   "display_name": "Python 3.10.7 ('.venv': venv)",
   "language": "python",
   "name": "python3"
  },
  "language_info": {
   "codemirror_mode": {
    "name": "ipython",
    "version": 3
   },
   "file_extension": ".py",
   "mimetype": "text/x-python",
   "name": "python",
   "nbconvert_exporter": "python",
   "pygments_lexer": "ipython3",
   "version": "3.8.10"
  },
  "orig_nbformat": 4,
  "vscode": {
   "interpreter": {
    "hash": "9c50189147e427894fb3c5d4a0e20b0971ddc7526f1a052202ce7d4c439c82b6"
   }
  }
 },
 "nbformat": 4,
 "nbformat_minor": 2
}
