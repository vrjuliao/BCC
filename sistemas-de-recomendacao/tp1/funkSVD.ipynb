{
 "cells": [
  {
   "cell_type": "code",
   "execution_count": 1,
   "metadata": {},
   "outputs": [],
   "source": [
    "import numpy as np\n",
    "import pandas as pd\n",
    "import dateutil as dtutil\n",
    "import pytz\n",
    "import six"
   ]
  },
  {
   "cell_type": "code",
   "execution_count": 2,
   "metadata": {},
   "outputs": [
    {
     "name": "stderr",
     "output_type": "stream",
     "text": [
      "/tmp/ipykernel_17140/3026495763.py:1: ParserWarning: Falling back to the 'python' engine because the 'c' engine does not support regex separators (separators > 1 char and different from '\\s+' are interpreted as regex); you can avoid this warning by specifying engine='python'.\n",
      "  ratings = pd.read_csv('ratings.csv', encoding='latin-1', sep=',|:')\n"
     ]
    },
    {
     "data": {
      "text/html": [
       "<div>\n",
       "<style scoped>\n",
       "    .dataframe tbody tr th:only-of-type {\n",
       "        vertical-align: middle;\n",
       "    }\n",
       "\n",
       "    .dataframe tbody tr th {\n",
       "        vertical-align: top;\n",
       "    }\n",
       "\n",
       "    .dataframe thead th {\n",
       "        text-align: right;\n",
       "    }\n",
       "</style>\n",
       "<table border=\"1\" class=\"dataframe\">\n",
       "  <thead>\n",
       "    <tr style=\"text-align: right;\">\n",
       "      <th></th>\n",
       "      <th>UserId</th>\n",
       "      <th>ItemId</th>\n",
       "      <th>Rating</th>\n",
       "    </tr>\n",
       "  </thead>\n",
       "  <tbody>\n",
       "    <tr>\n",
       "      <th>0</th>\n",
       "      <td>4baf0ac888</td>\n",
       "      <td>8b05db84f2</td>\n",
       "      <td>3</td>\n",
       "    </tr>\n",
       "    <tr>\n",
       "      <th>1</th>\n",
       "      <td>f3364fd7e6</td>\n",
       "      <td>8b05db84f2</td>\n",
       "      <td>2</td>\n",
       "    </tr>\n",
       "    <tr>\n",
       "      <th>2</th>\n",
       "      <td>72a8982204</td>\n",
       "      <td>8b05db84f2</td>\n",
       "      <td>5</td>\n",
       "    </tr>\n",
       "    <tr>\n",
       "      <th>3</th>\n",
       "      <td>d0171f7a9d</td>\n",
       "      <td>e40cec3cbe</td>\n",
       "      <td>5</td>\n",
       "    </tr>\n",
       "    <tr>\n",
       "      <th>4</th>\n",
       "      <td>e6dad08499</td>\n",
       "      <td>e40cec3cbe</td>\n",
       "      <td>5</td>\n",
       "    </tr>\n",
       "  </tbody>\n",
       "</table>\n",
       "</div>"
      ],
      "text/plain": [
       "       UserId      ItemId  Rating\n",
       "0  4baf0ac888  8b05db84f2       3\n",
       "1  f3364fd7e6  8b05db84f2       2\n",
       "2  72a8982204  8b05db84f2       5\n",
       "3  d0171f7a9d  e40cec3cbe       5\n",
       "4  e6dad08499  e40cec3cbe       5"
      ]
     },
     "execution_count": 2,
     "metadata": {},
     "output_type": "execute_result"
    }
   ],
   "source": [
    "ratings = pd.read_csv('ratings.csv', encoding='latin-1', sep=',|:')\n",
    "ratings.head()"
   ]
  },
  {
   "cell_type": "code",
   "execution_count": 4,
   "metadata": {},
   "outputs": [],
   "source": [
    "def get_user_item_mat(df):\n",
    "    num_users = df.iloc[:, 0].nunique()\n",
    "    num_items = df.iloc[:, 1].nunique()\n",
    "    # user_item_mat = np.empty((num_users, num_items))\n",
    "    # user_item_mat.fill(np.nan)\n",
    "\n",
    "    user_item_mat = np.full((num_users, num_items), fill_value=np.nan)\n",
    "\n",
    "    user_id_lookup = dict(zip(df.iloc[:, 0].unique(), range(num_users)))\n",
    "    item_id_lookup = dict(zip(df.iloc[:, 1].unique(), range(num_items)))\n",
    "\n",
    "    # users_keys = user_id_lookup.keys()\n",
    "    # items_keys = item_id_lookup.keys()\n",
    "\n",
    "    for idx, row in df.iterrows():\n",
    "        user_item_mat[user_id_lookup[row[0]], item_id_lookup[row[1]]] = row[2]\n",
    "    # return user_item_mat, users_keys, items_keys\n",
    "    return user_item_mat"
   ]
  },
  {
   "cell_type": "code",
   "execution_count": 5,
   "metadata": {},
   "outputs": [],
   "source": [
    "def funkSVD(ratings_mat, latent_features=4, learning_rate=0.0001, iters=100):\n",
    "    num_users = ratings_mat.shape[0]\n",
    "    num_movies = ratings_mat.shape[1]\n",
    "    num_ratings = np.count_nonzero(~np.isnan(ratings_mat))\n",
    "\n",
    "    users_latent = np.random.random_sample((num_users, latent_features))\n",
    "    movies_latent = np.random.random_sample((latent_features, num_movies))\n",
    "\n",
    "    for iter_num in range(iters):\n",
    "        cum_sse = 0\n",
    "        for row in range(num_users):\n",
    "            for col in range(num_movies):\n",
    "                if ratings_mat[row, col] > 0:  # rating exists\n",
    "                    predicted_value = np.dot(\n",
    "                        users_latent[row, :], movies_latent[:, col]\n",
    "                    )\n",
    "                    error = ratings_mat[row, col] - predicted_value\n",
    "                    cum_sse += np.power(error, 2)\n",
    "\n",
    "                    weight = learning_rate * 2 * (error)\n",
    "                    users_latent[row, :] += weight * movies_latent[:, col]\n",
    "                    movies_latent[:, col] += weight * users_latent[row, :]\n",
    "        print(f\"Iteration: {iter_num + 1}   MSE: {cum_sse/num_ratings:.6f}\")\n",
    "\n",
    "    return users_latent, movies_latent\n"
   ]
  },
  {
   "cell_type": "code",
   "execution_count": 6,
   "metadata": {},
   "outputs": [],
   "source": [
    "def predict_rating(df, user_id, movie_id, user_mat, movie_mat):\n",
    "    \"\"\"TO DO\"\"\"\n",
    "\n",
    "    user_id_vals = df.loc[:, \"UserId\"].unique()\n",
    "    movie_id_vals = df.loc[:, \"MovieId\"].unique()\n",
    "\n",
    "    # try:\n",
    "    user_idx = np.where(user_id_vals == user_id)[0][0]\n",
    "    movie_idx = np.where(movie_id_vals == movie_id)[0][0]\n",
    "    return np.dot(user_mat[user_idx, :], movie_mat[:, movie_idx])\n",
    "    # except IndexError:\n",
    "    #     print(\"Either the user or movie is missing from the our database\")\n",
    "    #     return None\n"
   ]
  },
  {
   "cell_type": "code",
   "execution_count": 7,
   "metadata": {},
   "outputs": [
    {
     "ename": "MemoryError",
     "evalue": "Unable to allocate 168. GiB for an array with shape (269268, 83767) and data type float64",
     "output_type": "error",
     "traceback": [
      "\u001b[0;31m---------------------------------------------------------------------------\u001b[0m",
      "\u001b[0;31mMemoryError\u001b[0m                               Traceback (most recent call last)",
      "Cell \u001b[0;32mIn [7], line 1\u001b[0m\n\u001b[0;32m----> 1\u001b[0m rating_mat \u001b[38;5;241m=\u001b[39m \u001b[43mget_user_item_mat\u001b[49m\u001b[43m(\u001b[49m\u001b[43mratings\u001b[49m\u001b[43m)\u001b[49m\n\u001b[1;32m      2\u001b[0m ulat, ilat \u001b[38;5;241m=\u001b[39m funkSVD(rating_mat, latent_features\u001b[38;5;241m=\u001b[39m\u001b[38;5;241m10\u001b[39m, learning_rate\u001b[38;5;241m=\u001b[39m\u001b[38;5;241m0.0001\u001b[39m, iters\u001b[38;5;241m=\u001b[39m\u001b[38;5;241m10\u001b[39m)\n",
      "Cell \u001b[0;32mIn [4], line 7\u001b[0m, in \u001b[0;36mget_user_item_mat\u001b[0;34m(df)\u001b[0m\n\u001b[1;32m      3\u001b[0m num_items \u001b[38;5;241m=\u001b[39m df\u001b[38;5;241m.\u001b[39miloc[:, \u001b[38;5;241m1\u001b[39m]\u001b[38;5;241m.\u001b[39mnunique()\n\u001b[1;32m      4\u001b[0m \u001b[38;5;66;03m# user_item_mat = np.empty((num_users, num_items))\u001b[39;00m\n\u001b[1;32m      5\u001b[0m \u001b[38;5;66;03m# user_item_mat.fill(np.nan)\u001b[39;00m\n\u001b[0;32m----> 7\u001b[0m user_item_mat \u001b[38;5;241m=\u001b[39m \u001b[43mnp\u001b[49m\u001b[38;5;241;43m.\u001b[39;49m\u001b[43mfull\u001b[49m\u001b[43m(\u001b[49m\u001b[43m(\u001b[49m\u001b[43mnum_users\u001b[49m\u001b[43m,\u001b[49m\u001b[43m \u001b[49m\u001b[43mnum_items\u001b[49m\u001b[43m)\u001b[49m\u001b[43m,\u001b[49m\u001b[43m \u001b[49m\u001b[43mfill_value\u001b[49m\u001b[38;5;241;43m=\u001b[39;49m\u001b[43mnp\u001b[49m\u001b[38;5;241;43m.\u001b[39;49m\u001b[43mnan\u001b[49m\u001b[43m)\u001b[49m\n\u001b[1;32m      9\u001b[0m user_id_lookup \u001b[38;5;241m=\u001b[39m \u001b[38;5;28mdict\u001b[39m(\u001b[38;5;28mzip\u001b[39m(df\u001b[38;5;241m.\u001b[39miloc[:, \u001b[38;5;241m0\u001b[39m]\u001b[38;5;241m.\u001b[39munique(), \u001b[38;5;28mrange\u001b[39m(num_users)))\n\u001b[1;32m     10\u001b[0m item_id_lookup \u001b[38;5;241m=\u001b[39m \u001b[38;5;28mdict\u001b[39m(\u001b[38;5;28mzip\u001b[39m(df\u001b[38;5;241m.\u001b[39miloc[:, \u001b[38;5;241m1\u001b[39m]\u001b[38;5;241m.\u001b[39munique(), \u001b[38;5;28mrange\u001b[39m(num_items)))\n",
      "File \u001b[0;32m~/workfolder/BCC/sistemas-de-recomendacao/tp1/.venv/lib/python3.8/site-packages/numpy/core/numeric.py:314\u001b[0m, in \u001b[0;36mfull\u001b[0;34m(shape, fill_value, dtype, order)\u001b[0m\n\u001b[1;32m    312\u001b[0m \u001b[39mif\u001b[39;00m dtype \u001b[39mis\u001b[39;00m \u001b[39mNone\u001b[39;00m:\n\u001b[1;32m    313\u001b[0m     dtype \u001b[39m=\u001b[39m array(fill_value)\u001b[39m.\u001b[39mdtype\n\u001b[0;32m--> 314\u001b[0m a \u001b[39m=\u001b[39m empty(shape, dtype, order)\n\u001b[1;32m    315\u001b[0m multiarray\u001b[39m.\u001b[39mcopyto(a, fill_value, casting\u001b[39m=\u001b[39m\u001b[39m'\u001b[39m\u001b[39munsafe\u001b[39m\u001b[39m'\u001b[39m)\n\u001b[1;32m    316\u001b[0m \u001b[39mreturn\u001b[39;00m a\n",
      "\u001b[0;31mMemoryError\u001b[0m: Unable to allocate 168. GiB for an array with shape (269268, 83767) and data type float64"
     ]
    }
   ],
   "source": [
    "rating_mat = get_user_item_mat(ratings)\n",
    "ulat, ilat = funkSVD(rating_mat, latent_features=10, learning_rate=0.0001, iters=10)\n"
   ]
  },
  {
   "cell_type": "code",
   "execution_count": null,
   "metadata": {},
   "outputs": [],
   "source": [
    "outfile = open('result.csv', 'w')\n",
    "targets = pd.read_csv('ratings.csv', encoding='latin-1', sep=':')\n",
    "for index, row in targets.iterrows():\n",
    "    predicted_value = predict_rating(row['UserId'], row['ItemId'], ulat, ilat, rating_mat)\n",
    "    print(\"{user}:{item},{value}\".format(row['UserId'], row['ItemId'], predicted_value),\n",
    "    file=outfile)"
   ]
  }
 ],
 "metadata": {
  "kernelspec": {
   "display_name": "Python 3.10.7 ('.venv': venv)",
   "language": "python",
   "name": "python3"
  },
  "language_info": {
   "codemirror_mode": {
    "name": "ipython",
    "version": 3
   },
   "file_extension": ".py",
   "mimetype": "text/x-python",
   "name": "python",
   "nbconvert_exporter": "python",
   "pygments_lexer": "ipython3",
   "version": "3.8.10"
  },
  "orig_nbformat": 4,
  "vscode": {
   "interpreter": {
    "hash": "9c50189147e427894fb3c5d4a0e20b0971ddc7526f1a052202ce7d4c439c82b6"
   }
  }
 },
 "nbformat": 4,
 "nbformat_minor": 2
}
