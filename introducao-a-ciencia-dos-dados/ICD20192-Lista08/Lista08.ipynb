{
 "cells": [
  {
   "cell_type": "markdown",
   "metadata": {
    "deletable": false,
    "editable": false,
    "nbgrader": {
     "checksum": "796114292f40d93792b787b19fbed7ee",
     "grade": false,
     "grade_id": "cellc-a00",
     "locked": true,
     "schema_version": 1,
     "solution": false
    }
   },
   "source": [
    "# Lista 08 - Comparando Regressões"
   ]
  },
  {
   "cell_type": "markdown",
   "metadata": {
    "deletable": false,
    "editable": false,
    "nbgrader": {
     "checksum": "c77a6c3fedbe648e6e209ba6323f711e",
     "grade": false,
     "grade_id": "cell-acd6c643a4ce1477",
     "locked": true,
     "schema_version": 1,
     "solution": false
    }
   },
   "source": [
    "# Exercício 01:\n",
    "\n",
    "Analise o desempenho do kNN e de uma Regressão Linear Regularizada para **pelo menos um** dos conjuntos de dados disponível na [seção de regressão linear múltipla](http://college.cengage.com/mathematics/brase/understandable_statistics/7e/students/datasets/mlr/frames/frame.html) da página do *Livro Understandable Statistics* de Charles Brase e Corrinne Brase. Para o conjunto de dados que escolheu, execute a regressão linear múltipla para explicar o fator $X1$ dos dados ([ver descrição de um dos conjuntos](http://college.cengage.com/mathematics/brase/understandable_statistics/7e/students/datasets/mlr/frames/frame.html)) a partir dos outros fatores. \n",
    "\n",
    "Para a questão, faça as seguintes tarefas:\n",
    "\n",
    "* Realize treino, validação e teste\n",
    "* Compare as métricas no teste\n",
    "* Diferente da lista anterior, reporte o erro quadrado médio no conjunto de teste."
   ]
  },
  {
   "cell_type": "code",
   "execution_count": 1,
   "metadata": {
    "deletable": false,
    "nbgrader": {
     "checksum": "c4c170d5f5a66e6cffe2a8da92fb9285",
     "grade": true,
     "grade_id": "cell-1b46a0ab690a7b8c",
     "locked": false,
     "points": 4,
     "schema_version": 1,
     "solution": true
    }
   },
   "outputs": [],
   "source": [
    "# YOUR CODE HERE\n",
    "# raise NotImplementedError()\n",
    "# ML models\n",
    "from sklearn.linear_model import Ridge\n",
    "from sklearn.neighbors import KNeighborsRegressor\n",
    "from sklearn.model_selection import train_test_split\n",
    "\n",
    "# data manipulators\n",
    "import numpy as np\n",
    "import pandas as pd\n",
    "\n",
    "# graphics\n",
    "import seaborn as sns\n",
    "from matplotlib import pyplot as plt"
   ]
  },
  {
   "cell_type": "code",
   "execution_count": 2,
   "metadata": {},
   "outputs": [
    {
     "name": "stdout",
     "output_type": "stream",
     "text": [
      "*** No CODEPAGE record, no encoding_override: will use 'ascii'\n"
     ]
    },
    {
     "data": {
      "text/html": [
       "<div>\n",
       "<style scoped>\n",
       "    .dataframe tbody tr th:only-of-type {\n",
       "        vertical-align: middle;\n",
       "    }\n",
       "\n",
       "    .dataframe tbody tr th {\n",
       "        vertical-align: top;\n",
       "    }\n",
       "\n",
       "    .dataframe thead th {\n",
       "        text-align: right;\n",
       "    }\n",
       "</style>\n",
       "<table border=\"1\" class=\"dataframe\">\n",
       "  <thead>\n",
       "    <tr style=\"text-align: right;\">\n",
       "      <th></th>\n",
       "      <th>X1</th>\n",
       "      <th>X2</th>\n",
       "      <th>X3</th>\n",
       "      <th>X4</th>\n",
       "      <th>X5</th>\n",
       "      <th>X6</th>\n",
       "      <th>X7</th>\n",
       "    </tr>\n",
       "  </thead>\n",
       "  <tbody>\n",
       "    <tr>\n",
       "      <th>0</th>\n",
       "      <td>478</td>\n",
       "      <td>184</td>\n",
       "      <td>40</td>\n",
       "      <td>74</td>\n",
       "      <td>11</td>\n",
       "      <td>31</td>\n",
       "      <td>20</td>\n",
       "    </tr>\n",
       "    <tr>\n",
       "      <th>1</th>\n",
       "      <td>494</td>\n",
       "      <td>213</td>\n",
       "      <td>32</td>\n",
       "      <td>72</td>\n",
       "      <td>11</td>\n",
       "      <td>43</td>\n",
       "      <td>18</td>\n",
       "    </tr>\n",
       "    <tr>\n",
       "      <th>2</th>\n",
       "      <td>643</td>\n",
       "      <td>347</td>\n",
       "      <td>57</td>\n",
       "      <td>70</td>\n",
       "      <td>18</td>\n",
       "      <td>16</td>\n",
       "      <td>16</td>\n",
       "    </tr>\n",
       "    <tr>\n",
       "      <th>3</th>\n",
       "      <td>341</td>\n",
       "      <td>565</td>\n",
       "      <td>31</td>\n",
       "      <td>71</td>\n",
       "      <td>11</td>\n",
       "      <td>25</td>\n",
       "      <td>19</td>\n",
       "    </tr>\n",
       "    <tr>\n",
       "      <th>4</th>\n",
       "      <td>773</td>\n",
       "      <td>327</td>\n",
       "      <td>67</td>\n",
       "      <td>72</td>\n",
       "      <td>9</td>\n",
       "      <td>29</td>\n",
       "      <td>24</td>\n",
       "    </tr>\n",
       "  </tbody>\n",
       "</table>\n",
       "</div>"
      ],
      "text/plain": [
       "    X1   X2  X3  X4  X5  X6  X7\n",
       "0  478  184  40  74  11  31  20\n",
       "1  494  213  32  72  11  43  18\n",
       "2  643  347  57  70  18  16  16\n",
       "3  341  565  31  71  11  25  19\n",
       "4  773  327  67  72   9  29  24"
      ]
     },
     "execution_count": 2,
     "metadata": {},
     "output_type": "execute_result"
    }
   ],
   "source": [
    "# importanto os dados de filmes\n",
    "df = pd.read_excel(\"mlr06.xls\")\n",
    "df.head()"
   ]
  },
  {
   "cell_type": "markdown",
   "metadata": {},
   "source": [
    "Antes de realizar uma regressão, analisaremos quais os parâmetros que possuem uma relação linear entre si. Desejamos explicar o fator X1, portanto, analisaremos as formas com as quais os demais atributos de relacionama com X1."
   ]
  },
  {
   "cell_type": "code",
   "execution_count": 3,
   "metadata": {},
   "outputs": [
    {
     "data": {
      "image/png": "[encoded data removed]",
      "text/plain": [
       "<Figure size 432x288 with 1 Axes>"
      ]
     },
     "metadata": {
      "needs_background": "light"
     },
     "output_type": "display_data"
    },
    {
     "data": {
      "image/png": "[encoded data removed]",
      "text/plain": [
       "<Figure size 432x288 with 1 Axes>"
      ]
     },
     "metadata": {
      "needs_background": "light"
     },
     "output_type": "display_data"
    },
    {
     "data": {
      "image/png": "[encoded data removed]",
      "text/plain": [
       "<Figure size 432x288 with 1 Axes>"
      ]
     },
     "metadata": {
      "needs_background": "light"
     },
     "output_type": "display_data"
    },
    {
     "data": {
      "image/png": "[encoded data removed]",
      "text/plain": [
       "<Figure size 432x288 with 1 Axes>"
      ]
     },
     "metadata": {
      "needs_background": "light"
     },
     "output_type": "display_data"
    },
    {
     "data": {
      "image/png": "[encoded data removed]",
      "text/plain": [
       "<Figure size 432x288 with 1 Axes>"
      ]
     },
     "metadata": {
      "needs_background": "light"
     },
     "output_type": "display_data"
    },
    {
     "data": {
      "image/png": "[encoded data removed]",
      "text/plain": [
       "<Figure size 432x288 with 1 Axes>"
      ]
     },
     "metadata": {
      "needs_background": "light"
     },
     "output_type": "display_data"
    }
   ],
   "source": [
    "plt.scatter(df['X2'], df['X1'])\n",
    "plt.ylabel('X1')\n",
    "plt.xlabel('X2')\n",
    "plt.show()\n",
    "\n",
    "plt.scatter(df['X3'], df['X1'])\n",
    "plt.ylabel('X1')\n",
    "plt.xlabel('X3')\n",
    "plt.show()\n",
    "\n",
    "plt.scatter(df['X4'], df['X1'])\n",
    "plt.ylabel('X1')\n",
    "plt.xlabel('X4')\n",
    "plt.show()\n",
    "\n",
    "plt.scatter(df['X5'], df['X1'])\n",
    "plt.ylabel('X1')\n",
    "plt.xlabel('X5')\n",
    "plt.show()\n",
    "\n",
    "plt.scatter(df['X6'], df['X1'])\n",
    "plt.ylabel('X1')\n",
    "plt.xlabel('X6')\n",
    "plt.show()\n",
    "\n",
    "plt.scatter(df['X7'], df['X1'])\n",
    "plt.ylabel('X1')\n",
    "plt.xlabel('X7')\n",
    "plt.show()"
   ]
  },
  {
   "cell_type": "markdown",
   "metadata": {},
   "source": [
    "É observável que X2 e X3 possuem uma relação mais linear com X1 do que X4, uma vez que os pontos no terceiro grafico estão muito dispersos, não sendo possível realizar um bom exame a cerca de um possível fator que defina uma relação entre tais atributos."
   ]
  },
  {
   "cell_type": "markdown",
   "metadata": {},
   "source": [
    "Encontraremos agora, um bom valor de K dentre os demais. Então para isso permutaremos possíveis valores de K analisando o menor erro médio quadratico como forma de computar a melhor escolha de K."
   ]
  },
  {
   "cell_type": "code",
   "execution_count": 4,
   "metadata": {},
   "outputs": [],
   "source": [
    "theta = ['X2', 'X3', 'X4', 'X5', 'X6', 'X7']\n",
    "y = ['X1'] \n",
    "X_train, X_test, Y_train, Y_test =  train_test_split(df[theta], df[y] , test_size=0.33, random_state=42)"
   ]
  },
  {
   "cell_type": "code",
   "execution_count": 5,
   "metadata": {},
   "outputs": [
    {
     "name": "stdout",
     "output_type": "stream",
     "text": [
      "k = 1  - sqe = 117005.0\n",
      "k = 3  - sqe = 9399.634920634922\n",
      "k = 5  - sqe = 16247.240000000005\n",
      "k = 7  - sqe = 23663.959183673465\n",
      "k = 9  - sqe = 112008.39858906527\n",
      "best K value = 3\n"
     ]
    }
   ],
   "source": [
    "def mse_error(origin_y, train_y):\n",
    "    return ((np.array(origin_y) - np.array(train_y))**2).mean()\n",
    "\n",
    "sqe = np.inf\n",
    "best_k = 0\n",
    "for k in [1, 3, 5, 7, 9]:\n",
    "# for k in [5]:\n",
    "    x_train, x_valid, y_train, y_valid =  train_test_split(X_train, Y_train , test_size=0.2, random_state=42+k)\n",
    "    neigh = KNeighborsRegressor(n_neighbors=k)\n",
    "    neigh = neigh.fit(x_train, y_train.values.T[0])\n",
    "    validation_result = neigh.predict(x_valid)\n",
    "    sqe_train = mse_error(y_valid.values.T[0], validation_result)\n",
    "    print(\"k =\", k, \" - sqe =\", sqe_train)\n",
    "    if(sqe_train < sqe):\n",
    "        sqe = sqe_train\n",
    "        best_k = k\n",
    "    \n",
    "print(\"best K value =\", best_k)"
   ]
  },
  {
   "cell_type": "markdown",
   "metadata": {},
   "source": [
    "De acordo com a documentação de sklearn.linear_model.Ridge, pode-se inserir um parâmetro alpha que para valores altos de alpha há uma forte regularização dos dados. Portanto, para o próximo modelo, utilizaremos esse tipo de regressão linear."
   ]
  },
  {
   "cell_type": "code",
   "execution_count": 6,
   "metadata": {},
   "outputs": [
    {
     "name": "stdout",
     "output_type": "stream",
     "text": [
      "alpha = 1.0  - sqe = 22019.303736841375\n",
      "alpha = 2.0  - sqe = 21977.74979373287\n",
      "alpha = 3.0  - sqe = 21936.91992632143\n",
      "alpha = 4.0  - sqe = 21896.796928302258\n",
      "alpha = 5.0  - sqe = 21857.364116989764\n",
      "alpha = 6.0  - sqe = 21818.605313960437\n",
      "alpha = 7.0  - sqe = 21780.504826533543\n",
      "alpha = 8.0  - sqe = 21743.047430049202\n",
      "alpha = 9.0  - sqe = 21706.218350903368\n",
      "alpha = 10.0  - sqe = 21670.003250304297\n",
      "alpha = 11.0  - sqe = 21634.38820871409\n",
      "alpha = 12.0  - sqe = 21599.35971094312\n",
      "alpha = 13.0  - sqe = 21564.904631865364\n",
      "alpha = 14.0  - sqe = 21531.010222726083\n",
      "alpha = 15.0  - sqe = 21497.664098012512\n",
      "alpha = 16.0  - sqe = 21464.85422286208\n",
      "alpha = 17.0  - sqe = 21432.568900982395\n",
      "alpha = 18.0  - sqe = 21400.796763059636\n",
      "alpha = 19.0  - sqe = 21369.526755632538\n",
      "alpha = 20.0  - sqe = 21338.7481304105\n",
      "alpha = 21.0  - sqe = 21308.4504340156\n",
      "alpha = 22.0  - sqe = 21278.623498129462\n",
      "alpha = 23.0  - sqe = 21249.25743002671\n",
      "alpha = 24.0  - sqe = 21220.342603476944\n",
      "alpha = 25.0  - sqe = 21191.86964999997\n",
      "alpha = 26.0  - sqe = 21163.829450457564\n",
      "alpha = 27.0  - sqe = 21136.213126967687\n",
      "alpha = 28.0  - sqe = 21109.01203512617\n",
      "alpha = 29.0  - sqe = 21082.217756523805\n",
      "alpha = 30.0  - sqe = 21055.822091544345\n",
      "alpha = 31.0  - sqe = 21029.81705243262\n",
      "alpha = 32.0  - sqe = 21004.194856620765\n",
      "alpha = 33.0  - sqe = 20978.94792030131\n",
      "alpha = 34.0  - sqe = 20954.068852236902\n",
      "alpha = 35.0  - sqe = 20929.55044779683\n",
      "alpha = 36.0  - sqe = 20905.385683210476\n",
      "alpha = 37.0  - sqe = 20881.567710028936\n",
      "alpha = 38.0  - sqe = 20858.089849786018\n",
      "alpha = 39.0  - sqe = 20834.94558885047\n",
      "alpha = 40.0  - sqe = 20812.128573461563\n",
      "alpha = 41.0  - sqe = 20789.63260494062\n",
      "alpha = 42.0  - sqe = 20767.451635071127\n",
      "alpha = 43.0  - sqe = 20745.579761640827\n",
      "alpha = 44.0  - sqe = 20724.011224139285\n",
      "alpha = 45.0  - sqe = 20702.74039960467\n",
      "alpha = 46.0  - sqe = 20681.76179861355\n",
      "alpha = 47.0  - sqe = 20661.07006140874\n",
      "alpha = 48.0  - sqe = 20640.65995415885\n",
      "alpha = 49.0  - sqe = 20620.526365345315\n",
      "alpha = 50.0  - sqe = 20600.66430227104\n",
      "best aplha value = 50.0\n"
     ]
    }
   ],
   "source": [
    "# colocando um valor alto de alpha (50.0) já possíumos um alto grau de regularização dos dados\n",
    "# entretanto não desejamos que a regularização seja demasiada, uma vez que pose atrapalhar\n",
    "# a eficácia do modelo.\n",
    "# Portanto, faremos com que os valores de alpha sejam permutados até encontrar um valor que\n",
    "# reduza o erro quadrático médio\n",
    "\n",
    "sqe = np.inf\n",
    "best_alpha = 0.0\n",
    "for alpha_ in range(0, 50):\n",
    "    alpha = alpha_+1.0\n",
    "    x_train, x_valid, y_train, y_valid =  train_test_split(X_train, Y_train , test_size=0.2, random_state=42+k)\n",
    "    ridge = Ridge(alpha=alpha)\n",
    "    ridge = ridge.fit(x_train, y_train.values.T[0])\n",
    "    validation_result = ridge.predict(x_valid)\n",
    "    sqe_train = mse_error(y_valid.values.T[0], validation_result)\n",
    "    print(\"alpha =\", alpha, \" - sqe =\", sqe_train)\n",
    "    if(sqe_train < sqe):\n",
    "        sqe = sqe_train\n",
    "        best_alpha = alpha\n",
    "    \n",
    "print(\"best aplha value =\", best_alpha)"
   ]
  },
  {
   "cell_type": "markdown",
   "metadata": {},
   "source": [
    "De acordo com as regularizações realizadas, agora obteremos o valor do erro quadrático médio do teste. Assim, poderemos comparar e definir quais dos dois modelos foi o mais eficaz segunto tal métrica."
   ]
  },
  {
   "cell_type": "code",
   "execution_count": 7,
   "metadata": {},
   "outputs": [
    {
     "name": "stdout",
     "output_type": "stream",
     "text": [
      "KNN mean square error: 60980.19607843137 \n",
      "\n",
      "Ridge Linear Regression mean square error: 76903.51149192385\n"
     ]
    }
   ],
   "source": [
    "# obtendo resposta do KNN\n",
    "neigh = KNeighborsRegressor(n_neighbors=best_k)\n",
    "neigh = neigh.fit(X_train, Y_train.values.T[0])\n",
    "knn_result = neigh.predict(X_test)\n",
    "sqe_knn = mse_error(Y_test.values.T[0], knn_result)\n",
    "\n",
    "\n",
    "ridge = Ridge(alpha=best_alpha)\n",
    "ridge = ridge.fit(X_train, Y_train.values.T[0])\n",
    "ridge_result = ridge.predict(X_test)\n",
    "sqe_ridge = mse_error(Y_test.values.T[0], ridge_result)\n",
    "\n",
    "print(\"KNN mean square error:\", sqe_knn, '\\n')\n",
    "\n",
    "print(\"Ridge Linear Regression mean square error:\", sqe_ridge)"
   ]
  },
  {
   "cell_type": "markdown",
   "metadata": {
    "deletable": false,
    "editable": false,
    "nbgrader": {
     "checksum": "c5c0a788bafbd1227adf600b857ee636",
     "grade": false,
     "grade_id": "cell-b8fab7f24e1b2a35",
     "locked": true,
     "schema_version": 1,
     "solution": false
    }
   },
   "source": [
    "Explique e discuta sobre os resultados encontrados no campo abaixo."
   ]
  },
  {
   "cell_type": "markdown",
   "metadata": {
    "deletable": false,
    "nbgrader": {
     "checksum": "27383ddc0e3db055b7bbfb577b77eca6",
     "grade": true,
     "grade_id": "cell-713eb691ead1e6c1",
     "locked": false,
     "points": 1,
     "schema_version": 1,
     "solution": true
    }
   },
   "source": [
    "Inicialmente, para o modelo do KNN, tentou-se selecionar um K dentre no máximo 5 opções de números ímpares, de forma que não se obtivesse um overfitting causado por um valor de K muito elevado. A obtenção de K se deu de forma que comparou-se dentre os possíveis valores, o que minimizasse o erro quadrático médio, e então pôde-se produzir boas métricas para o modelo. Por fim, o modelo obtido através do KNN apresentou-se melhor que o modelo da regressão de Ridge, o que pode-se notar como um ponto positivo na utilização de tal método dde aprendizagem.\n",
    "\n",
    "Para o regressor de Ridge, a escolha foi feita baseado no fato de que trata-se de um regressor regularizado pela métrica 'l2', o que poderia resultar em um bom modelo segundo o erro quadrático médio. Entretando, após 50 iterações não foi possível regularizar os dados tão bem quanto o KNN, para 5 iterações. Logo, é possível concluir a superioridade do modelo de regressão para o KNN em relação ao regressor de Ridge nesse estudo de caso.\n",
    "\n",
    "\n"
   ]
  },
  {
   "cell_type": "code",
   "execution_count": null,
   "metadata": {},
   "outputs": [],
   "source": []
  }
 ],
 "metadata": {
  "kernelspec": {
   "display_name": "Python 3",
   "language": "python",
   "name": "python3"
  },
  "language_info": {
   "codemirror_mode": {
    "name": "ipython",
    "version": 3
   },
   "file_extension": ".py",
   "mimetype": "text/x-python",
   "name": "python",
   "nbconvert_exporter": "python",
   "pygments_lexer": "ipython3",
   "version": "3.7.1"
  }
 },
 "nbformat": 4,
 "nbformat_minor": 2
}
