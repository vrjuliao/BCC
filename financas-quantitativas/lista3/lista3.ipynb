{
 "cells": [
  {
   "cell_type": "markdown",
   "id": "portuguese-uganda",
   "metadata": {},
   "source": [
    "# Lista 3 - Finanças Quantitativas e Gerenciamento de Risco\n",
    "\n",
    "- Vinicius Julião Ramos"
   ]
  },
  {
   "cell_type": "markdown",
   "id": "friendly-istanbul",
   "metadata": {},
   "source": [
    "## Questão 2"
   ]
  },
  {
   "cell_type": "code",
   "execution_count": 15,
   "id": "jewish-founder",
   "metadata": {},
   "outputs": [],
   "source": [
    "source(\"../utils/graficos.r\")\n",
    "source(\"../utils/funcoesAuxiliares.r\");\n",
    "source(\"../utils/model.r\");\n",
    "loadPackage(\"quantmod\");\n",
    "loadPackage(\"quadprog\");\n",
    "library(\"reshape2\")\n",
    "library(\"ggplot2\")\n",
    "\n",
    "options(scipen=999);\n",
    "loadPackage(\"RCurl\");\n",
    "data <- getURL(\"http://www.dcc.ufmg.br/~arbex/portfolios/IBOV.csv\", ssl.verifypeer=0L, followlocation=1L);\n",
    "prices = read.csv(text = data, header = TRUE, sep = \",\", stringsAsFactors = FALSE);\n",
    "begin  = which(prices[,1] > 20190000)[1];\n",
    "end    = which(prices[,1] > 20200000)[1];\n",
    "os.prices = prices[end:nrow(prices), ];\n",
    "is.prices = prices[begin:end, ];"
   ]
  },
  {
   "cell_type": "markdown",
   "id": "plain-savage",
   "metadata": {},
   "source": [
    "### Passo 1:\n",
    "\n",
    "Obter os retornos de insample por Markowitz"
   ]
  },
  {
   "cell_type": "code",
   "execution_count": 10,
   "id": "silver-damage",
   "metadata": {},
   "outputs": [
    {
     "name": "stdout",
     "output_type": "stream",
     "text": [
      "      BOVA11        ABEV3        AZUL4        BTOW3        B3SA3        BBAS3 \n",
      "-0.128297821  0.094513051 -0.049811930 -0.002387883 -0.135123154 -0.041617455 \n",
      "       BBSE3        BRML3        BBDC3        BBDC4        BRAP4        BRKM5 \n",
      " 0.081421086  0.006473257 -0.150000000  0.126904965  0.039863772  0.011568764 \n",
      "       BRFS3       BPAC11        CRFB3        CCRO3        CMIG4        HGTX3 \n",
      " 0.037796573 -0.010142985 -0.004665825 -0.009403152 -0.018038598  0.016595240 \n",
      "       CIEL3        COGN3        CSAN3        CPFE3        CVCB3        CYRE3 \n",
      "-0.001910725 -0.027501126  0.009529527  0.127049796 -0.009625067 -0.062617638 \n",
      "       ECOR3        ELET3        ELET6        EMBR3        ENBR3        EGIE3 \n",
      " 0.058404248 -0.146678752  0.150000000  0.127515548 -0.020202948  0.030370138 \n",
      "       EQTL3        YDUQ3        FLRY3        GOAU4        GGBR4        GOLL4 \n",
      " 0.074657313 -0.030839832  0.033632285  0.002721307 -0.079558633  0.013009613 \n",
      "       HAPV3        HYPE3        IGTA3        GNDI3        IRBR3        ITUB4 \n",
      " 0.073901266  0.035807242  0.104800774  0.023546654  0.055329204  0.073369506 \n",
      "       ITSA4        JBSS3       KLBN11        RENT3        LAME4        LREN3 \n",
      " 0.054856264  0.037463466  0.030824786  0.002380092 -0.040689111  0.037158513 \n",
      "       MGLU3        MRFG3        BEEF3        MRVE3        MULT3        NTCO3 \n",
      "-0.026187516 -0.033270116  0.015335785 -0.013421758 -0.079268939 -0.006621687 \n",
      "       BRDT3        PETR3        PETR4        QUAL3        RADL3        RAIL3 \n",
      " 0.042980789 -0.037228153  0.132246418 -0.029027402  0.038716763  0.078200621 \n",
      "       SBSP3       SANB11        CSNA3       SULA11        SUZB3       TAEE11 \n",
      " 0.002926384 -0.045495884  0.013145479  0.006005165  0.035833286  0.150000000 \n",
      "       TIMP3        TOTS3        USIM5        VALE3        WEGE3 \n",
      " 0.057342278  0.087017620 -0.001353790  0.005748810  0.004024227 \n"
     ]
    }
   ],
   "source": [
    "# removendo as colunas 'Date' e 'IBOV'\n",
    "insample.prices = is.prices[,3:ncol(is.prices)];\n",
    "outsample.prices = os.prices[,3:ncol(os.prices)];\n",
    "\n",
    "# calculo da matriz de retornos simples\n",
    "insample.returns = apply(insample.prices, 2, function(x){diff(x)/x[-length(x)]} );\n",
    "outsample.returns = apply(outsample.prices, 2, function(x){diff(x)/x[-length(x)]} );\n",
    "\n",
    "# calculo do vetor de retornos esperados (mu) e matriz de covariancias (Sigma)\n",
    "insample.mu = matrix(colMeans(insample.returns), nrow=1)\n",
    "colnames(insample.mu) = colnames(insample.returns);\n",
    "insample.Sigma = cov(insample.returns);\n",
    "\n",
    "N = ncol(insample.returns)\n",
    "markowitz.D = insample.Sigma; # Q do modelo\n",
    "markowitz.d = rep(0, N);      # c do modelo\n",
    "\n",
    "markowitz.A = matrix(c(rep(1, N),\n",
    "        insample.mu,\n",
    "        diag(N),\n",
    "        -diag(N)),\n",
    "        ncol = N,\n",
    "        byrow = TRUE);\n",
    "\n",
    "markowitz.b = c(1, 0.0001, rep(-0.15, 2*N));\n",
    "\n",
    "markowitz.meq  = 1;\n",
    "\n",
    "markowitz.result <- solve.QP(Dmat = markowitz.D, dvec = markowitz.d, Amat=t(markowitz.A), bvec=markowitz.b,\n",
    "                            meq=markowitz.meq);\n",
    "\n",
    "markowitz.weights = markowitz.result$solution\n",
    "\n",
    "names(markowitz.weights) <- colnames(insample.prices)\n",
    "markowitz.mu = as.numeric(crossprod(markowitz.weights, as.vector(insample.mu)))\n",
    "markowitz.sigma2 = (markowitz.result$val)*2\n",
    "markowitz.sigma = sqrt(markowitz.sigma2)\n",
    "\n",
    "markowitz.chart.data <- markowitz.weights[markowitz.weights>= 0.0001]\n",
    "\n",
    "print(markowitz.weights)"
   ]
  },
  {
   "cell_type": "markdown",
   "id": "tropical-grant",
   "metadata": {},
   "source": [
    "### Passo 2: Obter o IBOV para o Out-Sample"
   ]
  },
  {
   "cell_type": "code",
   "execution_count": null,
   "id": "literary-solomon",
   "metadata": {},
   "outputs": [],
   "source": [
    "ibov <- c(os.prices$IBOV)\n",
    "ibov <- ibov/ibov[1]\n",
    "\n",
    "\n",
    "# Função para aplicar o portifólio com rebalanceamento diário\n",
    "apply_portfolio <- function(weights, prices, returns){\n",
    "    result <- prices[names(weights)]\n",
    "    rownames(result) <- 1:nrow(prices)\n",
    "    result[1,] <- weights\n",
    "    \n",
    "    for(i in 1:nrow(returns)){\n",
    "#       rebalanceamento sem alterar a estratégia\n",
    "        next_day <- (1+returns[i,])*result[i,]\n",
    "        money <- sum(next_day)\n",
    "        result[i+1,] <- weights * money\n",
    "        \n",
    "#       Buy and Hold  \n",
    "#         result[i+1,]<- (1+returns[i,])*result[i,]\n",
    "    }\n",
    "    return (rowSums(result));\n",
    "}"
   ]
  },
  {
   "cell_type": "markdown",
   "id": "junior-needle",
   "metadata": {},
   "source": [
    "### Obtenção do portifólio via otimização do CVaR"
   ]
  },
  {
   "cell_type": "code",
   "execution_count": 17,
   "id": "latin-taxation",
   "metadata": {},
   "outputs": [],
   "source": [
    "# iniciando o modelo de maximização\n",
    "model = initialiseModel();\n",
    "model$setModelFilename('cvar.lp')\n",
    "model$setTimeLimit(3600)\n",
    "model$setDirection(1)\n",
    "\n",
    "cvar.scenarios <- nrow(insample.prices) - 1\n",
    "cvar.ativos <- ncol(insample.prices)\n",
    "cvar.alpha <- 0.05\n",
    "\n",
    "\n",
    "\n",
    "model$addVariable(\"V\", 1)\n",
    "\n",
    "for (i in 1 : cvar.scenarios) model$addVariable(paste0(\"d\", i), -1/(cvar.alpha*cvar.scenarios), 0, Inf)\n",
    "for (i in 1 : cvar.ativos) model$addVariable(paste0(\"w\", i), 0, -0.15, 0.15)\n",
    "\n",
    "cvar.wi = paste0(\"w\", seq(1: cvar.ativos))\n",
    "\n",
    "for(i in 1 : cvar.scenarios){\n",
    "    elements = paste0(\"w\", seq(1, N));\n",
    "    elements = c(\"V\", paste0(\"d\", i), cvar.wi)\n",
    "    model$addConstraint(\">=\", 0, elements, values);\n",
    "}"
   ]
  },
  {
   "cell_type": "code",
   "execution_count": 14,
   "id": "stone-treaty",
   "metadata": {},
   "outputs": [
    {
     "data": {
      "text/html": [
       "71"
      ],
      "text/latex": [
       "71"
      ],
      "text/markdown": [
       "71"
      ],
      "text/plain": [
       "[1] 71"
      ]
     },
     "metadata": {},
     "output_type": "display_data"
    }
   ],
   "source": [
    "ncol(insample.prices)"
   ]
  }
 ],
 "metadata": {
  "kernelspec": {
   "display_name": "R",
   "language": "R",
   "name": "ir"
  },
  "language_info": {
   "codemirror_mode": "r",
   "file_extension": ".r",
   "mimetype": "text/x-r-source",
   "name": "R",
   "pygments_lexer": "r",
   "version": "4.0.4"
  }
 },
 "nbformat": 4,
 "nbformat_minor": 5
}
