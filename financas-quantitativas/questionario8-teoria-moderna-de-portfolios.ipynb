{
 "cells": [
  {
   "cell_type": "code",
   "execution_count": 3,
   "id": "likely-legislature",
   "metadata": {},
   "outputs": [],
   "source": [
    "source(\"./utils/graficos.r\")\n",
    "source(\"./utils/funcoesAuxiliares.r\");\n",
    "loadPackage(\"quantmod\");\n",
    "loadPackage(\"quadprog\");"
   ]
  },
  {
   "cell_type": "markdown",
   "id": "greenhouse-algorithm",
   "metadata": {},
   "source": [
    "## Questão 2"
   ]
  },
  {
   "cell_type": "code",
   "execution_count": 1,
   "id": "serious-polyester",
   "metadata": {},
   "outputs": [
    {
     "name": "stdout",
     "output_type": "stream",
     "text": [
      "sigma: 0.08692713 \n",
      "mu: 0.05244898 \n",
      "weights: 0.448979591836735, 0.551020408163265 \n"
     ]
    }
   ],
   "source": [
    "sample.mu = c(0.08, 0.03)\n",
    "sample.sigma = c(0.12, 0.11)\n",
    "sigma = matrix(c(0.12**2, 0.15*0.12*0.11, 0.15*0.12*0.11, 0.11**2), ncol=2, byrow=TRUE)\n",
    "\n",
    "topo  = cbind(2*sigma, rep(1, nrow(sigma)));\n",
    "fundo = c(rep(1, ncol(sigma)), 0);\n",
    "A = rbind(topo, fundo);\n",
    "b = c(rep(0, nrow(sigma)), 1);\n",
    "\n",
    "z = solve(A) %*% b;\n",
    "# print(z)\n",
    "p.weights = as.numeric(z[1:ncol(sigma),1]);\n",
    "\n",
    "generate_stats <- function(weights){\n",
    "    portfolio.mu = as.numeric(weights %*% as.matrix(sample.mu))\n",
    "    portfolio.sigma2 = as.numeric(t(weights) %*% sigma %*% weights);\n",
    "    portfolio.sigma = sqrt(portfolio.sigma2)\n",
    "\n",
    "    cat(\"sigma:\", portfolio.sigma,\"\\n\")\n",
    "    cat(\"mu:\", portfolio.mu, \"\\n\")\n",
    "    cat(\"weights:\", toString(weights), \"\\n\")\n",
    "}\n",
    "\n",
    "generate_stats(p.weights)"
   ]
  },
  {
   "cell_type": "code",
   "execution_count": 5,
   "id": "unlikely-commissioner",
   "metadata": {},
   "outputs": [
    {
     "name": "stdout",
     "output_type": "stream",
     "text": [
      "sigma: 0.12 \n",
      "mu: 0.08 \n",
      "weights: 1, 0 \n"
     ]
    }
   ],
   "source": [
    "p1.weights = c(1., 0.)\n",
    "generate_stats(p1.weights)"
   ]
  },
  {
   "cell_type": "code",
   "execution_count": 6,
   "id": "developmental-governor",
   "metadata": {},
   "outputs": [
    {
     "name": "stdout",
     "output_type": "stream",
     "text": [
      "sigma: 0.11 \n",
      "mu: 0.03 \n",
      "weights: 0, 1 \n"
     ]
    }
   ],
   "source": [
    "generate_stats(c(0.,1.))"
   ]
  },
  {
   "cell_type": "code",
   "execution_count": 8,
   "id": "sharp-speaking",
   "metadata": {},
   "outputs": [
    {
     "name": "stdout",
     "output_type": "stream",
     "text": [
      "sigma: 0.08723761 \n",
      "mu: 0.05 \n",
      "weights: 0.4, 0.6 \n"
     ]
    }
   ],
   "source": [
    "generate_stats(c(0.4, 0.6))"
   ]
  },
  {
   "cell_type": "markdown",
   "id": "outside-expense",
   "metadata": {},
   "source": [
    "## Questão 3"
   ]
  },
  {
   "cell_type": "code",
   "execution_count": 19,
   "id": "subtle-asthma",
   "metadata": {},
   "outputs": [
    {
     "name": "stdout",
     "output_type": "stream",
     "text": [
      "     [,1] [,2]\n",
      "[1,] 1.00 1.00\n",
      "[2,] 0.08 0.03\n",
      "[1] \"\\n\"\n",
      "[1] 1.0 0.1\n",
      "sigma: 0.1671598 \n",
      "mu: 0.1 \n",
      "weights: 1.4, -0.4 \n"
     ]
    }
   ],
   "source": [
    "N = 2\n",
    "q3.D = sigma; # Q do modelo\n",
    "q3.d = rep(0, N);      # c do modelo\n",
    "q3.A = matrix(c(rep(1, N),\n",
    "                sample.mu), \n",
    "#                 diag(N)),\n",
    "              ncol = N, \n",
    "              byrow = TRUE);\n",
    "# q3.b = c(1, 0.1, rep(0, N));\n",
    "q3.b = c(1, 0.1);\n",
    "q3.meq  = 1;\n",
    "\n",
    "q3.result <- solve.QP(Dmat = q3.D, dvec = q3.d, Amat=t(q3.A), bvec=q3.b, meq=q3.meq);\n",
    "\n",
    "q3.weights = q3.result$solution\n",
    "generate_stats(q3.weights)"
   ]
  }
 ],
 "metadata": {
  "kernelspec": {
   "display_name": "R",
   "language": "R",
   "name": "ir"
  },
  "language_info": {
   "codemirror_mode": "r",
   "file_extension": ".r",
   "mimetype": "text/x-r-source",
   "name": "R",
   "pygments_lexer": "r",
   "version": "4.0.4"
  }
 },
 "nbformat": 4,
 "nbformat_minor": 5
}
