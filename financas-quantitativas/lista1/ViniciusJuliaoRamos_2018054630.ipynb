{
 "cells": [
  {
   "cell_type": "markdown",
   "metadata": {},
   "source": [
    "# Lista 1 - Finanças Quantitativas e Gerenciamento de Risco\n",
    "\n",
    "### Vinicius Julião Ramos - 2018054630\n"
   ]
  },
  {
   "cell_type": "markdown",
   "metadata": {},
   "source": [
    "## Questão 1"
   ]
  },
  {
   "cell_type": "code",
   "execution_count": 1,
   "metadata": {},
   "outputs": [],
   "source": [
    "q1_preco_atual = 100\n",
    "q1_preco_menor = 95\n",
    "q1_preco_maior = 95\n",
    "q1_preco_opcao = 1.49\n",
    "q1_preco_exercicio_opcao = 102"
   ]
  },
  {
   "cell_type": "markdown",
   "metadata": {},
   "source": [
    "a) Sim eu compraria a ação. Observe que o preço de exercício da opção é de R\\\\$102,00 e o preço da opção em si é de R\\\\$1,49. Com isso, se a o preço da ação cair para R\\\\$95 eu não executaria a minha ordem de compra, como há 50\\% de chance do preço chegar nesse valor, eu tenho tal chance de perder os R\\\\$1,49 do preço da opção.\\\n",
    "Entretanto, como há 50\\% de chance do preço chegar em R\\\\$105,00, caso isso ocorra e eu execute a ordem, eu ganharei R\\\\$3,00. Portanto, considerando o gasto que tive com a compra da opção, terei um lucro de $3 - 1.49 = 1.51$.\\\n",
    "Ou seja, tenho 50\\% de chance de perder R\\\\$1,49 e mais 50\\% de chances de ganhar R\\\\$1,51. Portanto eu compraria  a opção."
   ]
  },
  {
   "cell_type": "code",
   "execution_count": 2,
   "metadata": {},
   "outputs": [
    {
     "name": "stdout",
     "output_type": "stream",
     "text": [
      "1.5049\n"
     ]
    }
   ],
   "source": [
    "q1_tlr = 0.01 #taxa livre de risco\n",
    "q1_invst_livre_risco = q1_preco_opcao * (1+q1_tlr)\n",
    "print(q1_invst_livre_risco)"
   ]
  },
  {
   "cell_type": "markdown",
   "metadata": {},
   "source": [
    "b) Sim, minha decisão mudaria. Observando o caso anterior, como há 50\\% de chance de ganhar R\\\\$1,51 e 50\\% de chances de perder R\\\\$1,49, na média entre lucro e prejuízo ganhamos R\\\\$0,01 para os R\\\\$1,49 investidos.\\\n",
    "Porém, como a taxa livre de risco é de 1\\%, temos que investir R\\\\$1,49 dá um retorno de R\\\\$0,0149, que é maior do que o retorno \"médio\" do investimento em opções.\\\n",
    "Por este caso eu mudaria minha decisão."
   ]
  },
  {
   "cell_type": "markdown",
   "metadata": {},
   "source": [
    "## Questão 2"
   ]
  },
  {
   "cell_type": "markdown",
   "metadata": {},
   "source": [
    "a) Tomando $w$ como a proporção do valor total investido. Podemos calcular o valor esperado de forma que:\n",
    "\n",
    "$$\n",
    "E = \\frac{15}{30}(1-w) + \\frac{14}{30}(1-\\frac{w}{2}) + \\frac{1}{30}(1+49) - 1 = 0.9w\n",
    "$$\n",
    "\n",
    "Portanto, com esse valor de retorno esperado, o ideal será investir 100\\% de M."
   ]
  },
  {
   "cell_type": "markdown",
   "metadata": {},
   "source": [
    "b) Perderá tudo: independentemente de quantas vezes a bolinha parou em números ímpares ou então até mesmo no número correto, basta que caia em uma casas de número par para perder tudo. Após tal perda não é possível jogar novamente."
   ]
  },
  {
   "cell_type": "markdown",
   "metadata": {},
   "source": [
    "c) Para tal calculo, utilizaremos a média geométrica, uma vez que aqui o fator do tempo é considerado. Ou seja, o fato de sair um número par é considerado e assim, obtemos uma proporção adequada para apostar e correr o risco da perda de tal proporção do valor total investido.\n",
    "\n",
    "A média geométrica é dada por:\n",
    "$$\n",
    "G = \\sqrt[30]{(1-w)^{15} \\times (1 - \\frac{w}{2})^{14} \\times (1+49w)} - 1\n",
    "$$"
   ]
  },
  {
   "cell_type": "code",
   "execution_count": 3,
   "metadata": {},
   "outputs": [
    {
     "name": "stdout",
     "output_type": "stream",
     "text": [
      "Maximo G: 0.008169377171570957\n",
      "Ocorre para w = : 0.024102410241024105\n"
     ]
    }
   ],
   "source": [
    "import numpy as np\n",
    "\n",
    "def g_(w):\n",
    "    return (((1-w)**15)*((1-(w/2))**14)*(1+(49*w)))**(1/30)-1\n",
    "\n",
    "test_range = np.linspace(0,1,10000)\n",
    "rs = [g_(i) for i in test_range]\n",
    "index = np.argmax(rs)\n",
    "print(\"Maximo G:\", rs[index])\n",
    "print(\"Ocorre para w = :\", test_range[index])"
   ]
  },
  {
   "cell_type": "markdown",
   "metadata": {},
   "source": [
    "c) \\[CONTINUACAO\\] Portanto, para temos a proporção de $M$ a ser investida deve ser de cerca de 2,41\\%."
   ]
  },
  {
   "cell_type": "markdown",
   "metadata": {},
   "source": [
    "## Questão 3"
   ]
  },
  {
   "cell_type": "code",
   "execution_count": 4,
   "metadata": {},
   "outputs": [],
   "source": [
    "import pandas as pd\n",
    "import io\n",
    "import requests\n",
    "url_diario=\"./IBOV.csv\"\n",
    "url_mensal=\"./IBOVmensal.csv\"\n",
    "ibov_diario=pd.read_csv(url_diario)\n",
    "\n",
    "def df_by_date(df, begin, end):\n",
    "    df = df[(df.Date >= begin) & (df.Date < end)]\n",
    "    df = df.T\n",
    "    df.columns = df.iloc[0]\n",
    "    df = df.drop('Date')\n",
    "    return df"
   ]
  },
  {
   "cell_type": "code",
   "execution_count": 5,
   "metadata": {},
   "outputs": [
    {
     "name": "stdout",
     "output_type": "stream",
     "text": [
      "a)\n",
      "Correlação de ITUB4: 0.7412\n",
      "Correlação média: 0.506549510294997\n",
      "Correlação mínima: 0.16978287446585813\n"
     ]
    }
   ],
   "source": [
    "# a)\n",
    "\n",
    "def correlacao(df):\n",
    "    acc = len(df.index)\n",
    "    \n",
    "    ret = pd.DataFrame(index = df.index)\n",
    "    for i in range(len(df.columns) - 1):\n",
    "        ret[i] = (df.iloc[:, i+1] - df.iloc[:, i]) / df.iloc[:, i]\n",
    "    \n",
    "    correlation = np.zeros(acc - 1)\n",
    "    for i in range(acc-1):\n",
    "        correlation[i] = np.corrcoef(ret.loc['IBOV'], ret.iloc[i+1])[0][1]\n",
    "    return correlation\n",
    "\n",
    "corr19 = correlacao(df_by_date(ibov_diario, 20190000, 20200103))\n",
    "itub4 = \"{:.4f}\".format(corr19[41])\n",
    "print(\"a)\")\n",
    "print(f\"Correlação de ITUB4: {itub4}\")\n",
    "print(f\"Correlação média: {np.mean(corr19)}\")\n",
    "print(f\"Correlação mínima: {np.min(corr19)}\")"
   ]
  },
  {
   "cell_type": "code",
   "execution_count": 6,
   "metadata": {},
   "outputs": [
    {
     "name": "stdout",
     "output_type": "stream",
     "text": [
      "b)\n",
      "Correlação média: 0.7695246273268775\n",
      "Correlação mínima: 0.35035344921637007\n"
     ]
    }
   ],
   "source": [
    "corr20 = correlacao(df_by_date(ibov_diario, 20200000, 20210103))\n",
    "print(\"b)\")\n",
    "print(f\"Correlação média: {np.mean(corr20)}\")\n",
    "print(f\"Correlação mínima: {np.min(corr20)}\")"
   ]
  },
  {
   "cell_type": "code",
   "execution_count": 7,
   "metadata": {},
   "outputs": [
    {
     "data": {
      "image/png": "[encoded data removed]",
      "text/plain": [
       "<Figure size 432x288 with 1 Axes>"
      ]
     },
     "metadata": {
      "needs_background": "light"
     },
     "output_type": "display_data"
    },
    {
     "data": {
      "image/png": "[encoded data removed]",
      "text/plain": [
       "<Figure size 432x288 with 1 Axes>"
      ]
     },
     "metadata": {
      "needs_background": "light"
     },
     "output_type": "display_data"
    }
   ],
   "source": [
    "import matplotlib.pyplot as plt\n",
    "plt.hist(corr20, range = (-1, 1), bins = 50)\n",
    "plt.title(\"ano : 2020\")\n",
    "plt.ylim([0, 17])\n",
    "plt.show()\n",
    "\n",
    "plt.hist(corr19, range = (-1, 1), bins = 50)\n",
    "plt.title(\"ano : 2019\")\n",
    "plt.ylim([0, 17])\n",
    "plt.show()"
   ]
  },
  {
   "cell_type": "markdown",
   "metadata": {},
   "source": [
    "c) pode-se afirmar que BOVA11 é um bom índice, e que em 2019 houveram menos correlaçõe se comparado com o ano de 2020. Uma possível explicação são as notícias sobre a macro economia que afeta o mercado de maneira uniforme, ou seja, uma crise global.\\\n",
    "Também é possivel observar a inexistência de correlações negativas em ambos os anos."
   ]
  },
  {
   "cell_type": "markdown",
   "metadata": {},
   "source": [
    "## Questão 4"
   ]
  },
  {
   "cell_type": "code",
   "execution_count": 8,
   "metadata": {},
   "outputs": [
    {
     "data": {
      "text/html": [
       "<div>\n",
       "<style scoped>\n",
       "    .dataframe tbody tr th:only-of-type {\n",
       "        vertical-align: middle;\n",
       "    }\n",
       "\n",
       "    .dataframe tbody tr th {\n",
       "        vertical-align: top;\n",
       "    }\n",
       "\n",
       "    .dataframe thead th {\n",
       "        text-align: right;\n",
       "    }\n",
       "</style>\n",
       "<table border=\"1\" class=\"dataframe\">\n",
       "  <thead>\n",
       "    <tr style=\"text-align: right;\">\n",
       "      <th></th>\n",
       "      <th>Expected return</th>\n",
       "      <th>Std. deviation</th>\n",
       "      <th>Skewness</th>\n",
       "      <th>Kurtosis</th>\n",
       "      <th>VaR 5%</th>\n",
       "    </tr>\n",
       "  </thead>\n",
       "  <tbody>\n",
       "    <tr>\n",
       "      <th>BOVA11</th>\n",
       "      <td>0.000441</td>\n",
       "      <td>0.026923</td>\n",
       "      <td>-1.05417</td>\n",
       "      <td>13.351</td>\n",
       "      <td>-0.0364041</td>\n",
       "    </tr>\n",
       "    <tr>\n",
       "      <th>PETR4</th>\n",
       "      <td>0.000584</td>\n",
       "      <td>0.041346</td>\n",
       "      <td>-1.45044</td>\n",
       "      <td>19.3625</td>\n",
       "      <td>-0.0373832</td>\n",
       "    </tr>\n",
       "    <tr>\n",
       "      <th>ABEV3</th>\n",
       "      <td>-0.001269</td>\n",
       "      <td>0.026764</td>\n",
       "      <td>-0.909621</td>\n",
       "      <td>10.3956</td>\n",
       "      <td>-0.039604</td>\n",
       "    </tr>\n",
       "    <tr>\n",
       "      <th>SUZB3</th>\n",
       "      <td>0.002291</td>\n",
       "      <td>0.034222</td>\n",
       "      <td>-0.0841769</td>\n",
       "      <td>7.75604</td>\n",
       "      <td>-0.047619</td>\n",
       "    </tr>\n",
       "    <tr>\n",
       "      <th>ITSA4</th>\n",
       "      <td>-0.000191</td>\n",
       "      <td>0.026654</td>\n",
       "      <td>-0.345143</td>\n",
       "      <td>5.86184</td>\n",
       "      <td>-0.0447059</td>\n",
       "    </tr>\n",
       "    <tr>\n",
       "      <th>Portfolio</th>\n",
       "      <td>0.000371</td>\n",
       "      <td>0.024611</td>\n",
       "      <td>-1.65793</td>\n",
       "      <td>15.5629</td>\n",
       "      <td>-0.0279362</td>\n",
       "    </tr>\n",
       "  </tbody>\n",
       "</table>\n",
       "</div>"
      ],
      "text/plain": [
       "           Expected return  Std. deviation   Skewness Kurtosis     VaR 5%\n",
       "BOVA11            0.000441        0.026923   -1.05417   13.351 -0.0364041\n",
       "PETR4             0.000584        0.041346   -1.45044  19.3625 -0.0373832\n",
       "ABEV3            -0.001269        0.026764  -0.909621  10.3956  -0.039604\n",
       "SUZB3             0.002291        0.034222 -0.0841769  7.75604  -0.047619\n",
       "ITSA4            -0.000191        0.026654  -0.345143  5.86184 -0.0447059\n",
       "Portfolio         0.000371        0.024611   -1.65793  15.5629 -0.0279362"
      ]
     },
     "execution_count": 8,
     "metadata": {},
     "output_type": "execute_result"
    }
   ],
   "source": [
    "from scipy.stats import skew, kurtosis\n",
    "\n",
    "ibov_diario = pd.read_csv('./IBOV.csv')\n",
    "lt_year = ibov_diario[-251:]\n",
    "lt_year = lt_year.filter(['Date', 'BOVA11', 'PETR4', 'ABEV3', 'SUZB3', 'ITSA4'])\n",
    "lt_year = df_by_date(lt_year, 20190000, 20220000)\n",
    "\n",
    "ret = pd.DataFrame(index = lt_year.index)\n",
    "for i in range(len(lt_year.columns) - 1):\n",
    "    ret[i] = (lt_year.iloc[:, i+1] - lt_year.iloc[:, i]) / lt_year.iloc[:, i]\n",
    "\n",
    "answer = pd.DataFrame(columns=['Expected return', 'Std. deviation', 'Skewness', 'Kurtosis', 'VaR 5%'],\n",
    "                      index=['BOVA11', 'PETR4', 'ABEV3', 'SUZB3', 'ITSA4','Portfolio'])\n",
    "\n",
    "ret.loc['Portfolio'] = np.mean(ret)\n",
    "answer.iloc[:, 0] = np.mean(ret.T)\n",
    "answer.iloc[:, 1] = np.std(ret.T)\n",
    "\n",
    "for i in range(6):\n",
    "    answer.iloc[i,2] = skew(ret.iloc[i])\n",
    "    answer.iloc[i,3] = kurtosis(ret.iloc[i]) + 3\n",
    "    answer.iloc[i,4] = np.sort(ret.iloc[i])[13]\n",
    "    \n",
    "answer"
   ]
  },
  {
   "cell_type": "markdown",
   "metadata": {},
   "source": [
    "- Ao calcular o VaR você verá que a resposta não é tão óbvia.  Explique como você definiu o valor a ser utilizado.\\\n",
    "  Inicialmente os retornos foram ordenados de acordo com os ativos, então realizer 259/12 = 12.5, porém queria a borda superior, logo obtive o indice 13 (que seria o 14o elemento, uma vez que os indeices contam a partir de 0).\\\n",
    "  Finalmente, obtive que 95\\% dos retornos do ultimo ano foram acima do elemento selecionado, e consequentemente, 5\\% dos retornos estão abaixo."
   ]
  },
  {
   "cell_type": "markdown",
   "metadata": {},
   "source": [
    "- O que os valores da curtose sugerem.\\\n",
    "  Podemos sugerir que existe uma cauda pesada em todos os valores, uma vez que estes foram acima de 5\\%. Assim, concluímos que as ações foram muito voláteis no período em questão."
   ]
  },
  {
   "cell_type": "markdown",
   "metadata": {},
   "source": [
    "- Como o portfolio se compara com o ativos individuais em relação ao risco esperado.\\\n",
    "  Ao comparar os ativos individualmente com todo o portifólio, temos uma VaR de 5\\% menor para o portifólio. Isso sugere um menor risco em relação a um investimeno mono ativo. Ademais, temos um bom retorno esperado e um desvio padrão menor em comparação com os restantes."
   ]
  }
 ],
 "metadata": {
  "kernelspec": {
   "display_name": "Python 3",
   "language": "python",
   "name": "python3"
  },
  "language_info": {
   "codemirror_mode": {
    "name": "ipython",
    "version": 3
   },
   "file_extension": ".py",
   "mimetype": "text/x-python",
   "name": "python",
   "nbconvert_exporter": "python",
   "pygments_lexer": "ipython3",
   "version": "3.6.9"
  }
 },
 "nbformat": 4,
 "nbformat_minor": 4
}
