{
 "cells": [
  {
   "cell_type": "code",
   "execution_count": 3,
   "metadata": {},
   "outputs": [],
   "source": [
    "import numpy as np\n",
    "import pandas as pd\n",
    "from scipy import stats"
   ]
  },
  {
   "cell_type": "code",
   "execution_count": 9,
   "metadata": {},
   "outputs": [
    {
     "name": "stdout",
     "output_type": "stream",
     "text": [
      "n m n+m mu sigma\n",
      "5 5\n",
      "1920.92\n",
      "(200,)\n",
      "1920.92\n"
     ]
    }
   ],
   "source": [
    "print('n', 'm', 'n+m', 'mu', 'sigma')\n",
    "n = 0\n",
    "m = 0\n",
    "f = open('in/swap_05_1.txt')\n",
    "line = f.readline().split(' ')\n",
    "n+=int(line[0])\n",
    "m+=int(line[1])\n",
    "f.close()\n",
    "print(n, m)\n",
    "data = np.genfromtxt('out/swap_05.txt')\n",
    "mu2, sigma2 = stats.norm.fit(data)\n",
    "print(mu2)\n",
    "print(data.shape)\n",
    "print(data.mean())"
   ]
  },
  {
   "cell_type": "code",
   "execution_count": 8,
   "metadata": {},
   "outputs": [],
   "source": [
    "f.close()"
   ]
  },
  {
   "cell_type": "code",
   "execution_count": null,
   "metadata": {},
   "outputs": [],
   "source": [
    "def compute_line_sheet(entire_files, out_file):\n",
    "#     print('n', 'm', 'n+m', 'mu', 'sigma')\n",
    "    n = 0\n",
    "    m = 0\n",
    "    for file in entire_files:\n",
    "        f = open(file)\n",
    "        line = f.readline().split(' ')\n",
    "        n+=int(line[0])\n",
    "        m+=int(line[1])\n",
    "        f.close()\n",
    "        \n",
    "    n = round(n/len(entire_files))"
   ]
  }
 ],
 "metadata": {
  "kernelspec": {
   "display_name": "Python 3",
   "language": "python",
   "name": "python3"
  },
  "language_info": {
   "codemirror_mode": {
    "name": "ipython",
    "version": 3
   },
   "file_extension": ".py",
   "mimetype": "text/x-python",
   "name": "python",
   "nbconvert_exporter": "python",
   "pygments_lexer": "ipython3",
   "version": "3.7.1"
  }
 },
 "nbformat": 4,
 "nbformat_minor": 2
}
