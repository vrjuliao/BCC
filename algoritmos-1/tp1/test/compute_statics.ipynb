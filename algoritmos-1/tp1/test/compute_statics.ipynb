{
 "cells": [
  {
   "cell_type": "code",
   "execution_count": 3,
   "metadata": {},
   "outputs": [],
   "source": [
    "import numpy as np\n",
    "import pandas as pd\n",
    "from scipy import stats"
   ]
  },
  {
   "cell_type": "code",
   "execution_count": 9,
   "metadata": {},
   "outputs": [
    {
     "name": "stdout",
     "output_type": "stream",
     "text": [
      "n m n+m mu sigma\n",
      "5 5\n",
      "1920.92\n",
      "(200,)\n",
      "1920.92\n"
     ]
    }
   ],
   "source": [
    "print('n', 'm', 'n+m', 'mu', 'sigma')\n",
    "n = 0\n",
    "m = 0\n",
    "f = open('in/swap_05_1.txt')\n",
    "line = f.readline().split(' ')\n",
    "n+=int(line[0])\n",
    "m+=int(line[1])\n",
    "f.close()\n",
    "print(n, m)\n",
    "data = np.genfromtxt('out/swap_05.txt')\n",
    "mu2, sigma2 = stats.norm.fit(data)\n",
    "print(mu2)\n",
    "print(data.shape)\n",
    "print(data.mean())"
   ]
  },
  {
   "cell_type": "code",
   "execution_count": 8,
   "metadata": {},
   "outputs": [],
   "source": [
    "f.close()"
   ]
  },
  {
   "cell_type": "code",
   "execution_count": 15,
   "metadata": {},
   "outputs": [],
   "source": [
    "def compute_line_sheet(entire_files, out_file):\n",
    "#     print('n', 'm', 'n+m', 'mu', 'sigma')\n",
    "    n = 0\n",
    "    m = 0\n",
    "    for file in entire_files:\n",
    "        f = open('in/'+file)\n",
    "        line = f.readline().split(' ')\n",
    "        n+=int(line[0])\n",
    "        m+=int(line[1])\n",
    "        f.close()\n",
    "        \n",
    "    n = round(n/len(entire_files))\n",
    "    m = round(m/len(entire_files))\n",
    "    \n",
    "    data = np.genfromtxt('out/'+out_file)\n",
    "    mean, sigma2 = stats.norm.fit(data)\n",
    "    print(n, m, n+m, round(mean,4), round(sigma2**(0.5), 4))"
   ]
  },
  {
   "cell_type": "code",
   "execution_count": 16,
   "metadata": {},
   "outputs": [
    {
     "name": "stdout",
     "output_type": "stream",
     "text": [
      "5 5 10 1920.92 75.78\n"
     ]
    }
   ],
   "source": [
    "compute_line_sheet(['swap_05_1.txt', 'swap_05_2.txt', 'swap_05_3.txt', 'swap_05_4.txt'], 'swap_05.txt')"
   ]
  },
  {
   "cell_type": "code",
   "execution_count": null,
   "metadata": {},
   "outputs": [],
   "source": []
  }
 ],
 "metadata": {
  "kernelspec": {
   "display_name": "Python 3",
   "language": "python",
   "name": "python3"
  },
  "language_info": {
   "codemirror_mode": {
    "name": "ipython",
    "version": 3
   },
   "file_extension": ".py",
   "mimetype": "text/x-python",
   "name": "python",
   "nbconvert_exporter": "python",
   "pygments_lexer": "ipython3",
   "version": "3.7.1"
  }
 },
 "nbformat": 4,
 "nbformat_minor": 2
}
