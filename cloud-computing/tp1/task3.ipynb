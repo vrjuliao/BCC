{
 "cells": [
  {
   "cell_type": "code",
   "execution_count": 1,
   "id": "b8f5a2bc",
   "metadata": {},
   "outputs": [
    {
     "name": "stderr",
     "output_type": "stream",
     "text": [
      "22/05/13 21:07:20 WARN Utils: Your hostname, acer resolves to a loopback address: 127.0.1.1; using 192.168.0.40 instead (on interface wlp4s0)\n",
      "22/05/13 21:07:20 WARN Utils: Set SPARK_LOCAL_IP if you need to bind to another address\n",
      "Using Spark's default log4j profile: org/apache/spark/log4j-defaults.properties\n",
      "Setting default log level to \"WARN\".\n",
      "To adjust logging level use sc.setLogLevel(newLevel). For SparkR, use setLogLevel(newLevel).\n",
      "22/05/13 21:07:20 WARN NativeCodeLoader: Unable to load native-hadoop library for your platform... using builtin-java classes where applicable\n",
      "22/05/13 21:07:21 WARN Utils: Service 'SparkUI' could not bind on port 4040. Attempting port 4041.\n",
      "22/05/13 21:07:21 WARN Utils: Service 'SparkUI' could not bind on port 4041. Attempting port 4042.\n"
     ]
    }
   ],
   "source": [
    "from pyspark.sql import SparkSession\n",
    "from pyspark import SparkConf\n",
    "\n",
    "# cluster execution\n",
    "spark = SparkSession.builder \\\n",
    " .master(\"yarn\") \\\n",
    " .appName(\"Task3\") \\\n",
    " .config(\"spark.executor.instances\", \"2\") \\\n",
    " .config(\"spark.executor.cores\", \"2\") \\\n",
    " .config(\"spark.executor.memory\", \"2048M\") \\\n",
    " .getOrCreate()\n",
    "\n",
    "\"\"\"\n",
    "# local execution\n",
    "spark = SparkSession \\\n",
    "  .builder \\\n",
    "  .enableHiveSupport() \\\n",
    "  .config(conf=SparkConf().set(\"spark.driver.maxResultSize\", \"2g\")) \\\n",
    "  .appName(\"test\") \\\n",
    "  .getOrCreate()\n",
    "\"\"\"\n",
    "sc = spark.sparkContext"
   ]
  },
  {
   "cell_type": "code",
   "execution_count": 4,
   "id": "d29b702c",
   "metadata": {},
   "outputs": [
    {
     "name": "stderr",
     "output_type": "stream",
     "text": [
      "[Stage 3:>                                                          (0 + 4) / 4]\r"
     ]
    },
    {
     "name": "stdout",
     "output_type": "stream",
     "text": [
      "+---------------+----------+--------------------+----------+\n",
      "|    screen_name|created_at|                text|utimestamp|\n",
      "+---------------+----------+--------------------+----------+\n",
      "|     marykkeown|2020-03-31|.@PublicHealthSD ...|1585623600|\n",
      "| _CeeCeeElaine_|2020-03-31|Reading, writing,...|1585623600|\n",
      "| Stevevillano11|2020-03-31|@morethanmySLE Ma...|1585623600|\n",
      "|christalkstoyou|2020-03-31|When would a pand...|1585623600|\n",
      "|       Myananoa|2020-03-31|#StopAiringTrump ...|1585623600|\n",
      "|KarenRi25596554|2020-03-31|Today, the world ...|1585623600|\n",
      "|      Artstrada|2020-03-31|Imagine if #Ameri...|1585623600|\n",
      "|  ArchivesofMed|2020-03-31|Reduce the spread...|1585623600|\n",
      "|        spyblog|2020-03-31|@frank_rieger @al...|1585623600|\n",
      "|      WATLEYIII|2020-03-31|@5589com #coronav...|1585623600|\n",
      "|     Waqtnewstv|2020-03-31|ایران میں 35 دن ک...|1585623600|\n",
      "|     Waqtnewstv|2020-03-31|شاہ سلمان نے کرون...|1585623600|\n",
      "|    SKSingh_dav|2020-03-31|@DrDBhasin How th...|1585623600|\n",
      "|josephthavaraja|2020-03-31|#USA #infected bo...|1585623600|\n",
      "| AustraliaBlood|2020-03-31|@gavmorris @abc73...|1585623600|\n",
      "|MultilingualDoc|2020-03-31|Is Japan Covering...|1585623600|\n",
      "|       UPkesari|2020-03-31|खतरनाक होता जा रह...|1585623600|\n",
      "|    tjevsejevas|2020-03-31|What a surprise. ...|1585623600|\n",
      "|     Waqtnewstv|2020-03-31|عرب امارات میں کو...|1585623600|\n",
      "|  TheFederal_in|2020-03-31|Officials suspect...|1585623600|\n",
      "+---------------+----------+--------------------+----------+\n",
      "only showing top 20 rows\n",
      "\n"
     ]
    },
    {
     "name": "stderr",
     "output_type": "stream",
     "text": [
      "\r",
      "[Stage 3:==============>                                            (1 + 3) / 4]\r",
      "\r",
      "                                                                                \r"
     ]
    }
   ],
   "source": [
    "from pyspark.sql.types import StructType, StringType, StructField, IntegerType, DateType, LongType\n",
    "from pyspark.sql.functions import *\n",
    "\n",
    "\n",
    "tweet_schema = StructType([\n",
    "    StructField(\"account_created_at\", StringType(), True),\n",
    "    StructField(\"account_lang\",   StringType(), True),\n",
    "    StructField(\"country_code\", StringType(), True),\n",
    "    StructField(\"created_at\", DateType(), True),\n",
    "    StructField(\"favourites_count\", IntegerType(), True),\n",
    "    StructField(\"followers_count\", IntegerType(), True),\n",
    "    StructField(\"friends_count\", IntegerType(), True),\n",
    "    StructField(\"is_quote\", StringType(), True),\n",
    "    StructField(\"is_retweet\", StringType(), True),\n",
    "    StructField(\"lang\", StringType(), True),\n",
    "    StructField(\"place_full_name\", StringType(), True),\n",
    "    StructField(\"place_type\", StringType(), True),\n",
    "    StructField(\"reply_to_screen_name\", StringType(), True),\n",
    "    StructField(\"reply_to_status_id\", StringType(), True),\n",
    "    StructField(\"reply_to_user_id\", StringType(), True),\n",
    "    StructField(\"retweet_count\", IntegerType(), True),\n",
    "    StructField(\"screen_name\", StringType(), True),\n",
    "    StructField(\"source\", StringType(), True),\n",
    "    StructField(\"status_id\", StringType(), True),\n",
    "    StructField(\"text\", StringType(), True),\n",
    "    StructField(\"user_id\", StringType(), True),\n",
    "    StructField(\"verified\", StringType(), True),\n",
    "])\n",
    "# df = spark.read.json(\"./covid.json\", schema=tweet_schema)\n",
    "df = spark.read.json(\"hdfs:/datasets/covid/\", schema=tweet_schema)\n",
    "tf = df.select(df.screen_name, df.created_at, df.text).filter(\n",
    "    ((lower(df.text).contains(\"#corona\") | lower(df.text).contains(\"#covid\")) & lower(df.text).contains(\"#infected\")) |\n",
    "    lower(df.text).contains(\"#ihavecorona\") |\n",
    "    lower(df.text).contains(\"#ihavecovid\"))\n",
    "tf = tf.withColumn('utimestamp', unix_timestamp('created_at', 'yyyy-MM-dd'))\n",
    "tf.show()"
   ]
  },
  {
   "cell_type": "code",
   "execution_count": null,
   "id": "4766c802",
   "metadata": {},
   "outputs": [],
   "source": [
    "from pyspark.sql import Window\n",
    "w = Window().partitionBy(\"utimestamp\").orderBy(\"utimestamp\").rangeBetween(-7*86400, 0)\n",
    "ttf = tf.groupby(\"utimestamp\", \"created_at\").agg(countDistinct(\"screen_name\").alias(\"count\"))\n",
    "ttf = ttf.withColumn('moving_average', avg(\"count\").over(w))\n",
    "ttf.show()"
   ]
  },
  {
   "cell_type": "code",
   "execution_count": null,
   "id": "edb79c2d",
   "metadata": {},
   "outputs": [],
   "source": [
    "import matplotlib.pyplot as plt\n",
    "\n",
    "ttf.select(\"created_at\",\"moving_average\").coalesce(1).write.mode('overwrite').option('header','false').csv('out3/')\n",
    "time_dates = [dd.created_at for dd in ttf.select('created_at').collect()]\n",
    "moving_averages = [dd.moving_average for dd in ttf.select('moving_average').collect()]\n",
    "\n",
    "def plot_time_series(times, data):\n",
    "    plt.figure(figsize=(13, 10))\n",
    "    plt.plot(times, data, linewidth=3)\n",
    "   \n",
    "    plt.title('Moving average for people who posted using #ihavecorona', fontsize=25)\n",
    "    plt.xlabel('Date')\n",
    "    plt.ylabel('7 days moving average')\n",
    "    plt.tight_layout()   \n",
    "    plt.show()\n",
    "\n",
    "plot_time_series(time_dates, moving_averages)"
   ]
  }
 ],
 "metadata": {
  "kernelspec": {
   "display_name": "Python 3 (ipykernel)",
   "language": "python",
   "name": "python3"
  },
  "language_info": {
   "codemirror_mode": {
    "name": "ipython",
    "version": 3
   },
   "file_extension": ".py",
   "mimetype": "text/x-python",
   "name": "python",
   "nbconvert_exporter": "python",
   "pygments_lexer": "ipython3",
   "version": "3.8.10"
  }
 },
 "nbformat": 4,
 "nbformat_minor": 5
}
